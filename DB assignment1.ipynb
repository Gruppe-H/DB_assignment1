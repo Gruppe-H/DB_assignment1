{
 "cells": [
  {
   "cell_type": "code",
   "execution_count": 17,
   "metadata": {},
   "outputs": [],
   "source": [
    "import pandas as pd"
   ]
  },
  {
   "cell_type": "code",
   "execution_count": 18,
   "metadata": {},
   "outputs": [
    {
     "name": "stdout",
     "output_type": "stream",
     "text": [
      "<class 'pandas.core.frame.DataFrame'>\n",
      "RangeIndex: 187 entries, 0 to 186\n",
      "Data columns (total 27 columns):\n",
      " #   Column                                          Non-Null Count  Dtype  \n",
      "---  ------                                          --------------  -----  \n",
      " 0   Account Number                                  187 non-null    int64  \n",
      " 1   City Name                                       187 non-null    object \n",
      " 2   Country                                         187 non-null    object \n",
      " 3   City Short Name                                 187 non-null    object \n",
      " 4   C40                                             54 non-null     object \n",
      " 5   Reporting Year                                  187 non-null    int64  \n",
      " 6   Measurement Year                                187 non-null    object \n",
      " 7   Boundary                                        187 non-null    object \n",
      " 8   Primary Methodology                             187 non-null    object \n",
      " 9   Methodology Details                             133 non-null    object \n",
      " 10  Gases included                                  181 non-null    object \n",
      " 11  Total City-wide Emissions (metric tonnes CO2e)  187 non-null    float64\n",
      " 12  Total Scope 1 Emissions (metric tonnes CO2e)    134 non-null    float64\n",
      " 13  Total Scope 2 Emissions (metric tonnes CO2e)    132 non-null    float64\n",
      " 14  Increase/Decrease from last year                166 non-null    object \n",
      " 15  Reason for increase/decrease in emissions       144 non-null    object \n",
      " 16  Current Population Year                         187 non-null    int64  \n",
      " 17  Current Population                              185 non-null    float64\n",
      " 18  City GDP                                        130 non-null    float64\n",
      " 19  GDP Currency                                    123 non-null    object \n",
      " 20  Year of GDP                                     137 non-null    float64\n",
      " 21  GDP Source                                      130 non-null    object \n",
      " 22  Average annual temperature (in Celsius)​        177 non-null    float64\n",
      " 23  ​Land area (in square km)                       184 non-null    float64\n",
      " 24  Average altitude (m)                            168 non-null    float64\n",
      " 25  City Location                                   187 non-null    object \n",
      " 26  Country Location                                187 non-null    object \n",
      "dtypes: float64(9), int64(3), object(15)\n",
      "memory usage: 39.6+ KB\n"
     ]
    }
   ],
   "source": [
    "pdf1 = pd.read_csv('DBassign1/2016-GHG_Emissions.csv')\n",
    "pdf1.info()"
   ]
  },
  {
   "cell_type": "code",
   "execution_count": 19,
   "metadata": {},
   "outputs": [
    {
     "name": "stdout",
     "output_type": "stream",
     "text": [
      "<class 'pandas.core.frame.DataFrame'>\n",
      "RangeIndex: 229 entries, 0 to 228\n",
      "Data columns (total 31 columns):\n",
      " #   Column                                        Non-Null Count  Dtype  \n",
      "---  ------                                        --------------  -----  \n",
      " 0   Account number                                229 non-null    int64  \n",
      " 1   Organization                                  229 non-null    object \n",
      " 2   City                                          229 non-null    object \n",
      " 3   Country                                       229 non-null    object \n",
      " 4   Region                                        229 non-null    object \n",
      " 5   C40                                           56 non-null     object \n",
      " 6   Access                                        229 non-null    object \n",
      " 7   Reporting year                                229 non-null    int64  \n",
      " 8   Accounting year                               229 non-null    object \n",
      " 9   Boundary                                      229 non-null    object \n",
      " 10  Protocol                                      229 non-null    object \n",
      " 11  Protocol column                               151 non-null    object \n",
      " 12  Gases included                                111 non-null    object \n",
      " 13  Total emissions (metric tonnes CO2e)          217 non-null    float64\n",
      " 14  Scopes Included                               229 non-null    object \n",
      " 15  Total Scope 1 Emissions (metric tonnes CO2e)  173 non-null    float64\n",
      " 16  Total Scope 2 Emissions (metric tonnes CO2e)  172 non-null    float64\n",
      " 17  Comment                                       79 non-null     object \n",
      " 18  Increase/Decrease from last year              209 non-null    object \n",
      " 19  Reason for increase/decrease in emissions     178 non-null    object \n",
      " 20  Population                                    229 non-null    int64  \n",
      " 21  Population year                               229 non-null    int64  \n",
      " 22  GDP                                           181 non-null    float64\n",
      " 23  GDP Currency                                  184 non-null    object \n",
      " 24  GDP Year                                      185 non-null    float64\n",
      " 25  GDP Source                                    178 non-null    object \n",
      " 26  Average annual temperature (in Celsius)​      223 non-null    float64\n",
      " 27  ​Average altitude (m)                         207 non-null    float64\n",
      " 28  ​Land area (in square km)                     228 non-null    float64\n",
      " 29  City Location                                 229 non-null    object \n",
      " 30  Country Location                              229 non-null    object \n",
      "dtypes: float64(8), int64(4), object(19)\n",
      "memory usage: 55.6+ KB\n"
     ]
    }
   ],
   "source": [
    "pdf4 = pd.read_csv('DBassign1/2017-Community_Emissions.csv')\n",
    "pdf4.info()"
   ]
  },
  {
   "cell_type": "code",
   "execution_count": 20,
   "metadata": {},
   "outputs": [
    {
     "name": "stdout",
     "output_type": "stream",
     "text": [
      "<class 'pandas.core.frame.DataFrame'>\n",
      "RangeIndex: 280 entries, 0 to 279\n",
      "Data columns (total 15 columns):\n",
      " #   Column                                   Non-Null Count  Dtype  \n",
      "---  ------                                   --------------  -----  \n",
      " 0   Organisation                             280 non-null    object \n",
      " 1   Account No                               280 non-null    int64  \n",
      " 2   Country                                  280 non-null    object \n",
      " 3   City Short Name                          280 non-null    object \n",
      " 4   C40                                      83 non-null     object \n",
      " 5   Reporting Year                           280 non-null    int64  \n",
      " 6   Sector                                   268 non-null    object \n",
      " 7   Target boundary                          222 non-null    object \n",
      " 8   Baseline year                            275 non-null    object \n",
      " 9   Baseline emissions (metric tonnes CO2e)  262 non-null    float64\n",
      " 10  Percentage reduction target              280 non-null    float64\n",
      " 11  Target date                              270 non-null    float64\n",
      " 12  Comment                                  138 non-null    object \n",
      " 13  City Location                            280 non-null    object \n",
      " 14  Country Location                         280 non-null    object \n",
      "dtypes: float64(3), int64(2), object(10)\n",
      "memory usage: 32.9+ KB\n"
     ]
    }
   ],
   "source": [
    "pdf2 = pd.read_csv('DBassign1/2016-Cities.csv')\n",
    "pdf2.info()"
   ]
  },
  {
   "cell_type": "code",
   "execution_count": 21,
   "metadata": {},
   "outputs": [
    {
     "name": "stdout",
     "output_type": "stream",
     "text": [
      "<class 'pandas.core.frame.DataFrame'>\n",
      "RangeIndex: 406 entries, 0 to 405\n",
      "Data columns (total 21 columns):\n",
      " #   Column                                                                              Non-Null Count  Dtype  \n",
      "---  ------                                                                              --------------  -----  \n",
      " 0   Account No                                                                          406 non-null    int64  \n",
      " 1   Organisation                                                                        406 non-null    object \n",
      " 2   City                                                                                404 non-null    object \n",
      " 3   Country                                                                             404 non-null    object \n",
      " 4   Region                                                                              404 non-null    object \n",
      " 5   Access                                                                              406 non-null    object \n",
      " 6   C40                                                                                 94 non-null     object \n",
      " 7   Reporting year                                                                      406 non-null    int64  \n",
      " 8   Type of target                                                                      406 non-null    object \n",
      " 9   Sector                                                                              298 non-null    object \n",
      " 10  Baseline year                                                                       372 non-null    object \n",
      " 11  Baseline emissions (metric tonnes CO2e)                                             274 non-null    float64\n",
      " 12  Percentage reduction target                                                         332 non-null    float64\n",
      " 13  Target date                                                                         350 non-null    object \n",
      " 14  Estimated business as usual absolute emissions in target year (metric tonnes CO2e)  31 non-null     float64\n",
      " 15  ​Intensity unit (emissions per)                                                     23 non-null     object \n",
      " 16  Comment                                                                             140 non-null    object \n",
      " 17  Population                                                                          404 non-null    float64\n",
      " 18  Population Year                                                                     404 non-null    float64\n",
      " 19  City Location                                                                       404 non-null    object \n",
      " 20  Country Location                                                                    404 non-null    object \n",
      "dtypes: float64(5), int64(2), object(14)\n",
      "memory usage: 66.7+ KB\n"
     ]
    }
   ],
   "source": [
    "pdf3 = pd.read_csv('DBassign1/2017-Cities_Emission_Reduction_Targets.csv')\n",
    "pdf3.info()"
   ]
  },
  {
   "cell_type": "code",
   "execution_count": 22,
   "metadata": {},
   "outputs": [
    {
     "name": "stdout",
     "output_type": "stream",
     "text": [
      "<class 'pandas.core.frame.DataFrame'>\n",
      "RangeIndex: 1370 entries, 0 to 1369\n",
      "Data columns (total 20 columns):\n",
      " #   Column                                                            Non-Null Count  Dtype  \n",
      "---  ------                                                            --------------  -----  \n",
      " 0   Questionnaire                                                     1370 non-null   object \n",
      " 1   Organization Number                                               1370 non-null   int64  \n",
      " 2   Organization Name                                                 1370 non-null   object \n",
      " 3   City                                                              931 non-null    object \n",
      " 4   Country/Area                                                      1370 non-null   object \n",
      " 5   CDP Region                                                        1370 non-null   object \n",
      " 6   C40 City                                                          1370 non-null   bool   \n",
      " 7   GCoM City                                                         1370 non-null   bool   \n",
      " 8   Access                                                            1370 non-null   object \n",
      " 9   Assessment attachment and/or direct link                          1333 non-null   object \n",
      " 10  Confirm attachment/link provided                                  1370 non-null   object \n",
      " 11  Boundary of assessment relative to jurisdiction boundary          1358 non-null   object \n",
      " 12  Year of publication or approval                                   1344 non-null   float64\n",
      " 13  Factors considered in assessment                                  1319 non-null   object \n",
      " 14  Primary author(s) of assessment                                   1320 non-null   object \n",
      " 15  Does the city have adaptation goal(s) and/or an adaptation plan?  1370 non-null   object \n",
      " 16  Population                                                        1370 non-null   int64  \n",
      " 17  Population Year                                                   1362 non-null   float64\n",
      " 18  City Location                                                     800 non-null    object \n",
      " 19  Last update                                                       1370 non-null   object \n",
      "dtypes: bool(2), float64(2), int64(2), object(14)\n",
      "memory usage: 195.5+ KB\n"
     ]
    }
   ],
   "source": [
    "pdf5 = pd.read_csv('DBassign1/2023-Cities_Climate_Risk.csv')\n",
    "pdf5.info()"
   ]
  },
  {
   "cell_type": "code",
   "execution_count": 23,
   "metadata": {},
   "outputs": [
    {
     "data": {
      "text/plain": [
       "{'City Location'}"
      ]
     },
     "execution_count": 23,
     "metadata": {},
     "output_type": "execute_result"
    }
   ],
   "source": [
    "# Assuming df1, df2, df3, df4, df5 are your DataFrames\n",
    "cols_df1 = set(pdf1.columns)\n",
    "cols_df2 = set(pdf2.columns)\n",
    "cols_df3 = set(pdf3.columns)\n",
    "cols_df4 = set(pdf4.columns)\n",
    "cols_df5 = set(pdf5.columns)\n",
    "\n",
    "common_cols = cols_df1.intersection(cols_df2, cols_df3, cols_df4, cols_df5)\n",
    "common_cols\n"
   ]
  },
  {
   "cell_type": "code",
   "execution_count": 24,
   "metadata": {},
   "outputs": [
    {
     "data": {
      "text/plain": [
       "{'Account Number',\n",
       " 'Average altitude (m)',\n",
       " 'City GDP',\n",
       " 'City Name',\n",
       " 'Current Population',\n",
       " 'Current Population Year',\n",
       " 'Measurement Year',\n",
       " 'Methodology Details',\n",
       " 'Primary Methodology',\n",
       " 'Total City-wide Emissions (metric tonnes CO2e)',\n",
       " 'Year of GDP'}"
      ]
     },
     "execution_count": 24,
     "metadata": {},
     "output_type": "execute_result"
    }
   ],
   "source": [
    "unique_df1 = cols_df1.difference(cols_df2.union(cols_df3, cols_df4, cols_df5))\n",
    "unique_df1"
   ]
  },
  {
   "cell_type": "code",
   "execution_count": 25,
   "metadata": {},
   "outputs": [
    {
     "data": {
      "text/plain": [
       "{'Account Number',\n",
       " 'Average altitude (m)',\n",
       " 'Average annual temperature (in Celsius)\\u200b',\n",
       " 'Boundary',\n",
       " 'C40',\n",
       " 'City GDP',\n",
       " 'City Location',\n",
       " 'City Name',\n",
       " 'City Short Name',\n",
       " 'Country',\n",
       " 'Country Location',\n",
       " 'Current Population',\n",
       " 'Current Population Year',\n",
       " 'GDP Currency',\n",
       " 'GDP Source',\n",
       " 'Gases included',\n",
       " 'Increase/Decrease from last year',\n",
       " 'Measurement Year',\n",
       " 'Methodology Details',\n",
       " 'Primary Methodology',\n",
       " 'Reason for increase/decrease in emissions',\n",
       " 'Reporting Year',\n",
       " 'Total City-wide Emissions (metric tonnes CO2e)',\n",
       " 'Total Scope 1 Emissions (metric tonnes CO2e)',\n",
       " 'Total Scope 2 Emissions (metric tonnes CO2e)',\n",
       " 'Year of GDP',\n",
       " '\\u200bLand area (in square km)'}"
      ]
     },
     "execution_count": 25,
     "metadata": {},
     "output_type": "execute_result"
    }
   ],
   "source": [
    "cols_df1\n",
    "# cols_df2\n",
    "# cols_df3\n",
    "# cols_df4\n",
    "# cols_df5"
   ]
  },
  {
   "cell_type": "code",
   "execution_count": 26,
   "metadata": {},
   "outputs": [
    {
     "data": {
      "text/html": [
       "<div>\n",
       "<style scoped>\n",
       "    .dataframe tbody tr th:only-of-type {\n",
       "        vertical-align: middle;\n",
       "    }\n",
       "\n",
       "    .dataframe tbody tr th {\n",
       "        vertical-align: top;\n",
       "    }\n",
       "\n",
       "    .dataframe thead th {\n",
       "        text-align: right;\n",
       "    }\n",
       "</style>\n",
       "<table border=\"1\" class=\"dataframe\">\n",
       "  <thead>\n",
       "    <tr style=\"text-align: right;\">\n",
       "      <th></th>\n",
       "      <th>Account Number</th>\n",
       "      <th>City Name</th>\n",
       "      <th>Country</th>\n",
       "      <th>City Short Name</th>\n",
       "      <th>C40</th>\n",
       "      <th>Reporting Year</th>\n",
       "      <th>Measurement Year</th>\n",
       "      <th>Boundary</th>\n",
       "      <th>Primary Methodology</th>\n",
       "      <th>Methodology Details</th>\n",
       "      <th>...</th>\n",
       "      <th>Current Population</th>\n",
       "      <th>City GDP</th>\n",
       "      <th>GDP Currency</th>\n",
       "      <th>Year of GDP</th>\n",
       "      <th>GDP Source</th>\n",
       "      <th>Average annual temperature (in Celsius)​</th>\n",
       "      <th>​Land area (in square km)</th>\n",
       "      <th>Average altitude (m)</th>\n",
       "      <th>City Location</th>\n",
       "      <th>Country Location</th>\n",
       "    </tr>\n",
       "  </thead>\n",
       "  <tbody>\n",
       "    <tr>\n",
       "      <th>0</th>\n",
       "      <td>35894</td>\n",
       "      <td>Ville de Montreal</td>\n",
       "      <td>Canada</td>\n",
       "      <td>Montreal</td>\n",
       "      <td>NaN</td>\n",
       "      <td>2016</td>\n",
       "      <td>12/31/2009 12:00:00 AM</td>\n",
       "      <td>Other: The regional entity that constitutes th...</td>\n",
       "      <td>2006 IPCC Guidelines for National Greenhouse G...</td>\n",
       "      <td>2006 IPCC Guidelines for National Greenhouse G...</td>\n",
       "      <td>...</td>\n",
       "      <td>1886481.0</td>\n",
       "      <td>1.201180e+11</td>\n",
       "      <td>CAD     Canadian Dollar</td>\n",
       "      <td>2014.0</td>\n",
       "      <td>Ville de Montréal, Montréal en statistiques, h...</td>\n",
       "      <td>6.8</td>\n",
       "      <td>500.0</td>\n",
       "      <td>17.0</td>\n",
       "      <td>(45.5086699, -73.5539925)</td>\n",
       "      <td>(56.130366, -106.346771)</td>\n",
       "    </tr>\n",
       "  </tbody>\n",
       "</table>\n",
       "<p>1 rows × 27 columns</p>\n",
       "</div>"
      ],
      "text/plain": [
       "   Account Number          City Name Country City Short Name  C40  \\\n",
       "0           35894  Ville de Montreal  Canada        Montreal  NaN   \n",
       "\n",
       "   Reporting Year        Measurement Year  \\\n",
       "0            2016  12/31/2009 12:00:00 AM   \n",
       "\n",
       "                                            Boundary  \\\n",
       "0  Other: The regional entity that constitutes th...   \n",
       "\n",
       "                                 Primary Methodology  \\\n",
       "0  2006 IPCC Guidelines for National Greenhouse G...   \n",
       "\n",
       "                                 Methodology Details  ... Current Population  \\\n",
       "0  2006 IPCC Guidelines for National Greenhouse G...  ...          1886481.0   \n",
       "\n",
       "       City GDP             GDP Currency  Year of GDP  \\\n",
       "0  1.201180e+11  CAD     Canadian Dollar       2014.0   \n",
       "\n",
       "                                          GDP Source  \\\n",
       "0  Ville de Montréal, Montréal en statistiques, h...   \n",
       "\n",
       "  Average annual temperature (in Celsius)​  ​Land area (in square km)  \\\n",
       "0                                      6.8                      500.0   \n",
       "\n",
       "   Average altitude (m)              City Location          Country Location  \n",
       "0                  17.0  (45.5086699, -73.5539925)  (56.130366, -106.346771)  \n",
       "\n",
       "[1 rows x 27 columns]"
      ]
     },
     "execution_count": 26,
     "metadata": {},
     "output_type": "execute_result"
    }
   ],
   "source": [
    "pdf1.head(1)"
   ]
  },
  {
   "cell_type": "code",
   "execution_count": 27,
   "metadata": {},
   "outputs": [
    {
     "data": {
      "text/html": [
       "<div>\n",
       "<style scoped>\n",
       "    .dataframe tbody tr th:only-of-type {\n",
       "        vertical-align: middle;\n",
       "    }\n",
       "\n",
       "    .dataframe tbody tr th {\n",
       "        vertical-align: top;\n",
       "    }\n",
       "\n",
       "    .dataframe thead th {\n",
       "        text-align: right;\n",
       "    }\n",
       "</style>\n",
       "<table border=\"1\" class=\"dataframe\">\n",
       "  <thead>\n",
       "    <tr style=\"text-align: right;\">\n",
       "      <th></th>\n",
       "      <th>Organisation</th>\n",
       "      <th>Account No</th>\n",
       "      <th>Country</th>\n",
       "      <th>City Short Name</th>\n",
       "      <th>C40</th>\n",
       "      <th>Reporting Year</th>\n",
       "      <th>Sector</th>\n",
       "      <th>Target boundary</th>\n",
       "      <th>Baseline year</th>\n",
       "      <th>Baseline emissions (metric tonnes CO2e)</th>\n",
       "      <th>Percentage reduction target</th>\n",
       "      <th>Target date</th>\n",
       "      <th>Comment</th>\n",
       "      <th>City Location</th>\n",
       "      <th>Country Location</th>\n",
       "    </tr>\n",
       "  </thead>\n",
       "  <tbody>\n",
       "    <tr>\n",
       "      <th>0</th>\n",
       "      <td>Odder Kommune</td>\n",
       "      <td>58796</td>\n",
       "      <td>Denmark</td>\n",
       "      <td>Odder Kommune</td>\n",
       "      <td>NaN</td>\n",
       "      <td>2016</td>\n",
       "      <td>Total</td>\n",
       "      <td>NaN</td>\n",
       "      <td>2010</td>\n",
       "      <td>6136.0</td>\n",
       "      <td>2.0</td>\n",
       "      <td>NaN</td>\n",
       "      <td>NaN</td>\n",
       "      <td>(55.975718, 10.149958)</td>\n",
       "      <td>(56.26392, 9.501785)</td>\n",
       "    </tr>\n",
       "  </tbody>\n",
       "</table>\n",
       "</div>"
      ],
      "text/plain": [
       "    Organisation  Account No  Country City Short Name  C40  Reporting Year  \\\n",
       "0  Odder Kommune       58796  Denmark   Odder Kommune  NaN            2016   \n",
       "\n",
       "  Sector Target boundary Baseline year  \\\n",
       "0  Total             NaN          2010   \n",
       "\n",
       "   Baseline emissions (metric tonnes CO2e)  Percentage reduction target  \\\n",
       "0                                   6136.0                          2.0   \n",
       "\n",
       "   Target date Comment           City Location      Country Location  \n",
       "0          NaN     NaN  (55.975718, 10.149958)  (56.26392, 9.501785)  "
      ]
     },
     "execution_count": 27,
     "metadata": {},
     "output_type": "execute_result"
    }
   ],
   "source": [
    "pdf2.head(1)"
   ]
  },
  {
   "cell_type": "code",
   "execution_count": 28,
   "metadata": {},
   "outputs": [
    {
     "data": {
      "text/html": [
       "<div>\n",
       "<style scoped>\n",
       "    .dataframe tbody tr th:only-of-type {\n",
       "        vertical-align: middle;\n",
       "    }\n",
       "\n",
       "    .dataframe tbody tr th {\n",
       "        vertical-align: top;\n",
       "    }\n",
       "\n",
       "    .dataframe thead th {\n",
       "        text-align: right;\n",
       "    }\n",
       "</style>\n",
       "<table border=\"1\" class=\"dataframe\">\n",
       "  <thead>\n",
       "    <tr style=\"text-align: right;\">\n",
       "      <th></th>\n",
       "      <th>Account No</th>\n",
       "      <th>Organisation</th>\n",
       "      <th>City</th>\n",
       "      <th>Country</th>\n",
       "      <th>Region</th>\n",
       "      <th>Access</th>\n",
       "      <th>C40</th>\n",
       "      <th>Reporting year</th>\n",
       "      <th>Type of target</th>\n",
       "      <th>Sector</th>\n",
       "      <th>...</th>\n",
       "      <th>Baseline emissions (metric tonnes CO2e)</th>\n",
       "      <th>Percentage reduction target</th>\n",
       "      <th>Target date</th>\n",
       "      <th>Estimated business as usual absolute emissions in target year (metric tonnes CO2e)</th>\n",
       "      <th>​Intensity unit (emissions per)</th>\n",
       "      <th>Comment</th>\n",
       "      <th>Population</th>\n",
       "      <th>Population Year</th>\n",
       "      <th>City Location</th>\n",
       "      <th>Country Location</th>\n",
       "    </tr>\n",
       "  </thead>\n",
       "  <tbody>\n",
       "    <tr>\n",
       "      <th>0</th>\n",
       "      <td>54408</td>\n",
       "      <td>Aarhus Kommune</td>\n",
       "      <td>Aarhus</td>\n",
       "      <td>Denmark</td>\n",
       "      <td>Europe</td>\n",
       "      <td>Public</td>\n",
       "      <td>NaN</td>\n",
       "      <td>2017</td>\n",
       "      <td>Absolute target</td>\n",
       "      <td>NaN</td>\n",
       "      <td>...</td>\n",
       "      <td>NaN</td>\n",
       "      <td>100.0</td>\n",
       "      <td>2030</td>\n",
       "      <td>NaN</td>\n",
       "      <td>NaN</td>\n",
       "      <td>NaN</td>\n",
       "      <td>336000.0</td>\n",
       "      <td>2017.0</td>\n",
       "      <td>(56.168393, 10.137373)</td>\n",
       "      <td>(56.26392, 9.501785)</td>\n",
       "    </tr>\n",
       "  </tbody>\n",
       "</table>\n",
       "<p>1 rows × 21 columns</p>\n",
       "</div>"
      ],
      "text/plain": [
       "   Account No    Organisation    City  Country  Region  Access  C40  \\\n",
       "0       54408  Aarhus Kommune  Aarhus  Denmark  Europe  Public  NaN   \n",
       "\n",
       "   Reporting year   Type of target Sector  ...  \\\n",
       "0            2017  Absolute target    NaN  ...   \n",
       "\n",
       "  Baseline emissions (metric tonnes CO2e)  Percentage reduction target  \\\n",
       "0                                     NaN                        100.0   \n",
       "\n",
       "   Target date  \\\n",
       "0         2030   \n",
       "\n",
       "  Estimated business as usual absolute emissions in target year (metric tonnes CO2e)  \\\n",
       "0                                                NaN                                   \n",
       "\n",
       "   ​Intensity unit (emissions per) Comment Population  Population Year  \\\n",
       "0                              NaN     NaN   336000.0           2017.0   \n",
       "\n",
       "            City Location      Country Location  \n",
       "0  (56.168393, 10.137373)  (56.26392, 9.501785)  \n",
       "\n",
       "[1 rows x 21 columns]"
      ]
     },
     "execution_count": 28,
     "metadata": {},
     "output_type": "execute_result"
    }
   ],
   "source": [
    "pdf3.head(1)"
   ]
  },
  {
   "cell_type": "code",
   "execution_count": 29,
   "metadata": {},
   "outputs": [
    {
     "data": {
      "text/html": [
       "<div>\n",
       "<style scoped>\n",
       "    .dataframe tbody tr th:only-of-type {\n",
       "        vertical-align: middle;\n",
       "    }\n",
       "\n",
       "    .dataframe tbody tr th {\n",
       "        vertical-align: top;\n",
       "    }\n",
       "\n",
       "    .dataframe thead th {\n",
       "        text-align: right;\n",
       "    }\n",
       "</style>\n",
       "<table border=\"1\" class=\"dataframe\">\n",
       "  <thead>\n",
       "    <tr style=\"text-align: right;\">\n",
       "      <th></th>\n",
       "      <th>Account number</th>\n",
       "      <th>Organization</th>\n",
       "      <th>City</th>\n",
       "      <th>Country</th>\n",
       "      <th>Region</th>\n",
       "      <th>C40</th>\n",
       "      <th>Access</th>\n",
       "      <th>Reporting year</th>\n",
       "      <th>Accounting year</th>\n",
       "      <th>Boundary</th>\n",
       "      <th>...</th>\n",
       "      <th>Population year</th>\n",
       "      <th>GDP</th>\n",
       "      <th>GDP Currency</th>\n",
       "      <th>GDP Year</th>\n",
       "      <th>GDP Source</th>\n",
       "      <th>Average annual temperature (in Celsius)​</th>\n",
       "      <th>​Average altitude (m)</th>\n",
       "      <th>​Land area (in square km)</th>\n",
       "      <th>City Location</th>\n",
       "      <th>Country Location</th>\n",
       "    </tr>\n",
       "  </thead>\n",
       "  <tbody>\n",
       "    <tr>\n",
       "      <th>0</th>\n",
       "      <td>49363</td>\n",
       "      <td>Nelson Mandela Bay Municipality</td>\n",
       "      <td>Nelson Mandela Bay</td>\n",
       "      <td>South Africa</td>\n",
       "      <td>Africa</td>\n",
       "      <td>NaN</td>\n",
       "      <td>Public</td>\n",
       "      <td>2017</td>\n",
       "      <td>2013-07-01 - 2014-06-30</td>\n",
       "      <td>A metropolitan area</td>\n",
       "      <td>...</td>\n",
       "      <td>2011</td>\n",
       "      <td>52147.0</td>\n",
       "      <td>ZAR     South African Rand</td>\n",
       "      <td>2010.0</td>\n",
       "      <td>Built Environment Performance Plan(BEPP)</td>\n",
       "      <td>17.5</td>\n",
       "      <td>69.0</td>\n",
       "      <td>1950.0</td>\n",
       "      <td>(-33.745241, 25.568108)</td>\n",
       "      <td>(-30.559482, 22.937506)</td>\n",
       "    </tr>\n",
       "  </tbody>\n",
       "</table>\n",
       "<p>1 rows × 31 columns</p>\n",
       "</div>"
      ],
      "text/plain": [
       "   Account number                     Organization                 City  \\\n",
       "0           49363  Nelson Mandela Bay Municipality  Nelson Mandela Bay    \n",
       "\n",
       "        Country  Region  C40  Access  Reporting year          Accounting year  \\\n",
       "0  South Africa  Africa  NaN  Public            2017  2013-07-01 - 2014-06-30   \n",
       "\n",
       "              Boundary  ... Population year      GDP  \\\n",
       "0  A metropolitan area  ...            2011  52147.0   \n",
       "\n",
       "                 GDP Currency  GDP Year  \\\n",
       "0  ZAR     South African Rand    2010.0   \n",
       "\n",
       "                                 GDP Source  \\\n",
       "0  Built Environment Performance Plan(BEPP)   \n",
       "\n",
       "   Average annual temperature (in Celsius)​  ​Average altitude (m)  \\\n",
       "0                                      17.5                   69.0   \n",
       "\n",
       "  ​Land area (in square km)            City Location         Country Location  \n",
       "0                    1950.0  (-33.745241, 25.568108)  (-30.559482, 22.937506)  \n",
       "\n",
       "[1 rows x 31 columns]"
      ]
     },
     "execution_count": 29,
     "metadata": {},
     "output_type": "execute_result"
    }
   ],
   "source": [
    "pdf4.head(1)"
   ]
  },
  {
   "cell_type": "code",
   "execution_count": 30,
   "metadata": {},
   "outputs": [
    {
     "data": {
      "text/html": [
       "<div>\n",
       "<style scoped>\n",
       "    .dataframe tbody tr th:only-of-type {\n",
       "        vertical-align: middle;\n",
       "    }\n",
       "\n",
       "    .dataframe tbody tr th {\n",
       "        vertical-align: top;\n",
       "    }\n",
       "\n",
       "    .dataframe thead th {\n",
       "        text-align: right;\n",
       "    }\n",
       "</style>\n",
       "<table border=\"1\" class=\"dataframe\">\n",
       "  <thead>\n",
       "    <tr style=\"text-align: right;\">\n",
       "      <th></th>\n",
       "      <th>Questionnaire</th>\n",
       "      <th>Organization Number</th>\n",
       "      <th>Organization Name</th>\n",
       "      <th>City</th>\n",
       "      <th>Country/Area</th>\n",
       "      <th>CDP Region</th>\n",
       "      <th>C40 City</th>\n",
       "      <th>GCoM City</th>\n",
       "      <th>Access</th>\n",
       "      <th>Assessment attachment and/or direct link</th>\n",
       "      <th>Confirm attachment/link provided</th>\n",
       "      <th>Boundary of assessment relative to jurisdiction boundary</th>\n",
       "      <th>Year of publication or approval</th>\n",
       "      <th>Factors considered in assessment</th>\n",
       "      <th>Primary author(s) of assessment</th>\n",
       "      <th>Does the city have adaptation goal(s) and/or an adaptation plan?</th>\n",
       "      <th>Population</th>\n",
       "      <th>Population Year</th>\n",
       "      <th>City Location</th>\n",
       "      <th>Last update</th>\n",
       "    </tr>\n",
       "  </thead>\n",
       "  <tbody>\n",
       "    <tr>\n",
       "      <th>0</th>\n",
       "      <td>Cities 2023</td>\n",
       "      <td>840926</td>\n",
       "      <td>Prefeitura de Serra Talhada</td>\n",
       "      <td>NaN</td>\n",
       "      <td>Brazil</td>\n",
       "      <td>Latin America</td>\n",
       "      <td>False</td>\n",
       "      <td>True</td>\n",
       "      <td>public</td>\n",
       "      <td>https://drive.google.com/file/d/19DMxxK532IQSL...</td>\n",
       "      <td>The assessment can be accessed (unrestricted) ...</td>\n",
       "      <td>Same - covers entire jurisdiction and nothing ...</td>\n",
       "      <td>2022.0</td>\n",
       "      <td>Assessment considers vulnerable populations; A...</td>\n",
       "      <td>Dedicated team within jurisdiction; Relevant d...</td>\n",
       "      <td>Adaptation goal(s) and adaptation plan</td>\n",
       "      <td>92228</td>\n",
       "      <td>2023.0</td>\n",
       "      <td>NaN</td>\n",
       "      <td>02/07/2024 04:14:16 AM</td>\n",
       "    </tr>\n",
       "  </tbody>\n",
       "</table>\n",
       "</div>"
      ],
      "text/plain": [
       "  Questionnaire  Organization Number            Organization Name City  \\\n",
       "0   Cities 2023               840926  Prefeitura de Serra Talhada  NaN   \n",
       "\n",
       "  Country/Area     CDP Region  C40 City  GCoM City  Access  \\\n",
       "0       Brazil  Latin America     False       True  public   \n",
       "\n",
       "            Assessment attachment and/or direct link  \\\n",
       "0  https://drive.google.com/file/d/19DMxxK532IQSL...   \n",
       "\n",
       "                    Confirm attachment/link provided  \\\n",
       "0  The assessment can be accessed (unrestricted) ...   \n",
       "\n",
       "  Boundary of assessment relative to jurisdiction boundary  \\\n",
       "0  Same - covers entire jurisdiction and nothing ...         \n",
       "\n",
       "   Year of publication or approval  \\\n",
       "0                           2022.0   \n",
       "\n",
       "                    Factors considered in assessment  \\\n",
       "0  Assessment considers vulnerable populations; A...   \n",
       "\n",
       "                     Primary author(s) of assessment  \\\n",
       "0  Dedicated team within jurisdiction; Relevant d...   \n",
       "\n",
       "  Does the city have adaptation goal(s) and/or an adaptation plan?  \\\n",
       "0             Adaptation goal(s) and adaptation plan                 \n",
       "\n",
       "   Population  Population Year City Location             Last update  \n",
       "0       92228           2023.0           NaN  02/07/2024 04:14:16 AM  "
      ]
     },
     "execution_count": 30,
     "metadata": {},
     "output_type": "execute_result"
    }
   ],
   "source": [
    "pdf5.head(1)"
   ]
  },
  {
   "cell_type": "code",
   "execution_count": 31,
   "metadata": {},
   "outputs": [
    {
     "data": {
      "text/plain": [
       "741"
      ]
     },
     "execution_count": 31,
     "metadata": {},
     "output_type": "execute_result"
    }
   ],
   "source": [
    "pdf5['Organization Name'].nunique()"
   ]
  },
  {
   "cell_type": "code",
   "execution_count": 33,
   "metadata": {},
   "outputs": [
    {
     "data": {
      "text/plain": [
       "array(['Total Scope 1, Scope 2 and Waste Scope 3 (Total BASIC emissions)',\n",
       "       'Total Scope 1 and Scope 2'], dtype=object)"
      ]
     },
     "execution_count": 33,
     "metadata": {},
     "output_type": "execute_result"
    }
   ],
   "source": [
    "pdf4['Scopes Included '].unique()"
   ]
  }
 ],
 "metadata": {
  "kernelspec": {
   "display_name": "Python 3",
   "language": "python",
   "name": "python3"
  },
  "language_info": {
   "codemirror_mode": {
    "name": "ipython",
    "version": 3
   },
   "file_extension": ".py",
   "mimetype": "text/x-python",
   "name": "python",
   "nbconvert_exporter": "python",
   "pygments_lexer": "ipython3",
   "version": "3.10.9"
  }
 },
 "nbformat": 4,
 "nbformat_minor": 2
}
