{
 "cells": [
  {
   "cell_type": "code",
   "execution_count": 1,
   "metadata": {},
   "outputs": [],
   "source": [
    "import pandas as pd"
   ]
  },
  {
   "cell_type": "code",
   "execution_count": 6,
   "metadata": {},
   "outputs": [
    {
     "name": "stdout",
     "output_type": "stream",
     "text": [
      "<class 'pandas.core.frame.DataFrame'>\n",
      "RangeIndex: 406 entries, 0 to 405\n",
      "Data columns (total 21 columns):\n",
      " #   Column                                                                              Non-Null Count  Dtype  \n",
      "---  ------                                                                              --------------  -----  \n",
      " 0   Account No                                                                          406 non-null    int64  \n",
      " 1   Organisation                                                                        406 non-null    object \n",
      " 2   City                                                                                404 non-null    object \n",
      " 3   Country                                                                             404 non-null    object \n",
      " 4   Region                                                                              404 non-null    object \n",
      " 5   Access                                                                              406 non-null    object \n",
      " 6   C40                                                                                 94 non-null     object \n",
      " 7   Reporting year                                                                      406 non-null    int64  \n",
      " 8   Type of target                                                                      406 non-null    object \n",
      " 9   Sector                                                                              298 non-null    object \n",
      " 10  Baseline year                                                                       372 non-null    object \n",
      " 11  Baseline emissions (metric tonnes CO2e)                                             274 non-null    float64\n",
      " 12  Percentage reduction target                                                         332 non-null    float64\n",
      " 13  Target date                                                                         350 non-null    object \n",
      " 14  Estimated business as usual absolute emissions in target year (metric tonnes CO2e)  31 non-null     float64\n",
      " 15  ​Intensity unit (emissions per)                                                     23 non-null     object \n",
      " 16  Comment                                                                             140 non-null    object \n",
      " 17  Population                                                                          404 non-null    float64\n",
      " 18  Population Year                                                                     404 non-null    float64\n",
      " 19  City Location                                                                       404 non-null    object \n",
      " 20  Country Location                                                                    404 non-null    object \n",
      "dtypes: float64(5), int64(2), object(14)\n",
      "memory usage: 66.7+ KB\n"
     ]
    }
   ],
   "source": [
    "## To show all columns and values in the columns\n",
    "\n",
    "data = pd.read_csv('DBassign1/2017-Cities_Emission_Reduction_Targets.csv')\n",
    "df = pd.DataFrame(data)\n",
    "data.info()"
   ]
  },
  {
   "cell_type": "code",
   "execution_count": 10,
   "metadata": {},
   "outputs": [
    {
     "name": "stdout",
     "output_type": "stream",
     "text": [
      "Account No\n",
      "Organisation\n",
      "City\n",
      "Country\n",
      "Region\n",
      "Access\n",
      "C40\n",
      "Reporting year\n",
      "Type of target\n",
      "Sector\n",
      "Baseline year\n",
      "Baseline emissions (metric tonnes CO2e)\n",
      "Percentage reduction target\n",
      "Target date\n",
      "Estimated business as usual absolute emissions in target year (metric tonnes CO2e)\n",
      "​Intensity unit (emissions per)\n",
      "Comment\n",
      "Population\n",
      "Population Year\n",
      "City Location\n",
      "Country Location\n"
     ]
    }
   ],
   "source": [
    "## To print all column names to be used later down\n",
    " \n",
    "for col in data.columns:\n",
    "    print(col)"
   ]
  },
  {
   "cell_type": "code",
   "execution_count": 20,
   "metadata": {},
   "outputs": [
    {
     "data": {
      "text/plain": [
       "array([nan, 'C40'], dtype=object)"
      ]
     },
     "execution_count": 20,
     "metadata": {},
     "output_type": "execute_result"
    }
   ],
   "source": [
    "## To get unique values for the different columns - USE: change the value between \"\" to something above\n",
    "\n",
    "df[\"C40\"].unique()"
   ]
  },
  {
   "cell_type": "code",
   "execution_count": 22,
   "metadata": {},
   "outputs": [
    {
     "name": "stdout",
     "output_type": "stream",
     "text": [
      "The column contains null values.\n"
     ]
    }
   ],
   "source": [
    "## Check if there are null values in a column\n",
    "\n",
    "contains_null = df['City'].isnull().any()\n",
    "if contains_null:\n",
    "    print(\"The column contains null values.\")\n",
    "else:\n",
    "    print(\"The column does not contain any null values.\")"
   ]
  },
  {
   "cell_type": "code",
   "execution_count": 53,
   "metadata": {},
   "outputs": [
    {
     "name": "stdout",
     "output_type": "stream",
     "text": [
      "     Account No                               Organisation City Country\n",
      "201       58871                          City of Salem, MA  NaN     NaN\n",
      "290       50359  Gobierno Municipal de León de los Aldamas  NaN     NaN\n"
     ]
    }
   ],
   "source": [
    "# Create a mask where the column is null\n",
    "null_mask = df['City'].isnull()\n",
    "\n",
    "# Use the mask to filter the DataFrame, showing only rows where the column is null\n",
    "rows_with_null = df[null_mask]\n",
    "\n",
    "# Display these rows\n",
    "# print(rows_with_null)\n",
    "print(rows_with_null[['Account No', 'Organisation', 'City', 'Country']])"
   ]
  },
  {
   "cell_type": "code",
   "execution_count": 48,
   "metadata": {},
   "outputs": [
    {
     "name": "stdout",
     "output_type": "stream",
     "text": [
      "201    58871\n",
      "290    50359\n",
      "Name: Account No, dtype: int64\n",
      "----- split, above is df and below is dfClean -----\n",
      "Empty DataFrame\n",
      "Columns: [Account No, Organisation, City, Country, Region, Access, C40, Reporting year, Type of target, Sector, Baseline year, Baseline emissions (metric tonnes CO2e), Percentage reduction target, Target date, Estimated business as usual absolute emissions in target year (metric tonnes CO2e), ​Intensity unit (emissions per), Comment, Population, Population Year, City Location, Country Location]\n",
      "Index: []\n",
      "\n",
      "[0 rows x 21 columns]\n"
     ]
    }
   ],
   "source": [
    "## Remove the above 2 rows from the df and save it to dfClean\n",
    "dfClean = df.drop([201, 290])\n",
    "\n",
    "# Define your conditions\n",
    "condition1 = (df[\"Account No\"] == 58871)\n",
    "condition2 = (df[\"Account No\"] == 50359)\n",
    "# Apply conditions using the | operator\n",
    "filtered_df = df[condition1 | condition2]\n",
    "# Display the filtered DataFrame\n",
    "print(filtered_df['Account No'])\n",
    "\n",
    "\n",
    "print(\"----- split, above is df and below is dfClean -----\")\n",
    "\n",
    "# Define your conditions\n",
    "condition1 = (dfClean[\"Account No\"] == 58871)\n",
    "condition2 = (dfClean[\"Account No\"] == 50359)\n",
    "\n",
    "# Apply conditions using the | operator\n",
    "filtered_dfClean = dfClean[condition1 | condition2]\n",
    "\n",
    "# Display the filtered DataFrame\n",
    "print(filtered_dfClean)\n",
    "\n",
    "\n"
   ]
  },
  {
   "cell_type": "code",
   "execution_count": 12,
   "metadata": {},
   "outputs": [
    {
     "name": "stdout",
     "output_type": "stream",
     "text": [
      "One-to-one relationship from Account No to Organisation: True\n",
      "One-to-one relationship from Organisation to Account No: True\n"
     ]
    }
   ],
   "source": [
    "## CHATGPT generated - to check if Account No and Organisation is a one to one relationship\n",
    "\n",
    "# Assuming df is your DataFrame\n",
    "# Replace 'df' with the variable name of your DataFrame\n",
    "\n",
    "# Check uniqueness from Account No to Organisation\n",
    "account_to_org = df.groupby('Account No')['Organisation'].nunique()\n",
    "org_to_account = df.groupby('Organisation')['Account No'].nunique()\n",
    "\n",
    "# Check if all accounts map to exactly one organisation and vice versa\n",
    "is_one_to_one_account_to_org = all(account_to_org == 1)\n",
    "is_one_to_one_org_to_account = all(org_to_account == 1)\n",
    "\n",
    "# Print results\n",
    "print(\"One-to-one relationship from Account No to Organisation:\", is_one_to_one_account_to_org)\n",
    "print(\"One-to-one relationship from Organisation to Account No:\", is_one_to_one_org_to_account)\n",
    "\n",
    "# To identify if there are any specific accounts or organisations that do not follow this pattern:\n",
    "if not is_one_to_one_account_to_org:\n",
    "    print(\"Accounts mapping to multiple organisations:\", account_to_org[account_to_org > 1])\n",
    "\n",
    "if not is_one_to_one_org_to_account:\n",
    "    print(\"Organisations mapping to multiple accounts:\", org_to_account[org_to_account > 1])\n"
   ]
  }
 ],
 "metadata": {
  "kernelspec": {
   "display_name": "base",
   "language": "python",
   "name": "python3"
  },
  "language_info": {
   "codemirror_mode": {
    "name": "ipython",
    "version": 3
   },
   "file_extension": ".py",
   "mimetype": "text/x-python",
   "name": "python",
   "nbconvert_exporter": "python",
   "pygments_lexer": "ipython3",
   "version": "3.10.9"
  }
 },
 "nbformat": 4,
 "nbformat_minor": 2
}
