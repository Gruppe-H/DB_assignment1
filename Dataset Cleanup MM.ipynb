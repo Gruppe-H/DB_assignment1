{
 "cells": [
  {
   "cell_type": "code",
   "execution_count": 2,
   "metadata": {},
   "outputs": [
    {
     "name": "stdout",
     "output_type": "stream",
     "text": [
      "DataFrame 1: 280 rows, 15 columns\n",
      "DataFrame 2: 187 rows, 27 columns\n",
      "DataFrame 3: 229 rows, 31 columns\n",
      "DataFrame 4: 406 rows, 21 columns\n",
      "DataFrame 5: 1370 rows, 20 columns\n"
     ]
    }
   ],
   "source": [
    "import pandas as pd\n",
    "\n",
    "# Load the 5 datasets\n",
    "df1 = pd.read_csv('DBassign1/2016-Cities.csv')\n",
    "df2 = pd.read_csv('DBassign1/2016-GHG_Emissions.csv')\n",
    "df3 = pd.read_csv('DBassign1/2017-Community_Emissions.csv')\n",
    "df4 = pd.read_csv('DBassign1/2017-Cities_Emission_Reduction_Targets.csv')\n",
    "df5 = pd.read_csv('DBassign1/2023-Cities_Climate_Risk.csv')\n",
    "\n",
    "# Print rows and columns for the 5 datasets\n",
    "dataframes = [df1, df2, df3, df4, df5]\n",
    "for i, df in enumerate(dataframes, start=1):\n",
    "    print(f\"DataFrame {i}: {df.shape[0]} rows, {df.shape[1]} columns\")"
   ]
  },
  {
   "cell_type": "markdown",
   "metadata": {},
   "source": [
    "## Normalisation of data"
   ]
  },
  {
   "cell_type": "markdown",
   "metadata": {},
   "source": [
    "### Org Table"
   ]
  },
  {
   "cell_type": "code",
   "execution_count": 3,
   "metadata": {},
   "outputs": [],
   "source": [
    "# variables for column names\n",
    "org_no = 'Organization_id'\n",
    "org_name = 'Organization_name'\n",
    "c40 = 'C40_member'\n",
    "GCoM = 'GCoM_member'\n",
    "acc_year = 'accounting_year'\n",
    "org_bound = 'Organization_boundary'\n",
    "\n",
    "## The dataframe will be called 'final_df' for the dataframe with the above NOTE: naming should be improved for the other tables"
   ]
  },
  {
   "cell_type": "markdown",
   "metadata": {},
   "source": [
    "#### Org number and name normalisation"
   ]
  },
  {
   "cell_type": "code",
   "execution_count": 4,
   "metadata": {},
   "outputs": [
    {
     "data": {
      "text/html": [
       "<div>\n",
       "<style scoped>\n",
       "    .dataframe tbody tr th:only-of-type {\n",
       "        vertical-align: middle;\n",
       "    }\n",
       "\n",
       "    .dataframe tbody tr th {\n",
       "        vertical-align: top;\n",
       "    }\n",
       "\n",
       "    .dataframe thead th {\n",
       "        text-align: right;\n",
       "    }\n",
       "</style>\n",
       "<table border=\"1\" class=\"dataframe\">\n",
       "  <thead>\n",
       "    <tr style=\"text-align: right;\">\n",
       "      <th></th>\n",
       "      <th>Organization_name</th>\n",
       "      <th>Organization_id</th>\n",
       "      <th>Country</th>\n",
       "      <th>City Short Name</th>\n",
       "      <th>C40</th>\n",
       "      <th>Reporting Year</th>\n",
       "      <th>Sector</th>\n",
       "      <th>Target boundary</th>\n",
       "      <th>Baseline year</th>\n",
       "      <th>Baseline emissions (metric tonnes CO2e)</th>\n",
       "      <th>Percentage reduction target</th>\n",
       "      <th>Target date</th>\n",
       "      <th>Comment</th>\n",
       "      <th>City Location</th>\n",
       "      <th>Country Location</th>\n",
       "    </tr>\n",
       "  </thead>\n",
       "  <tbody>\n",
       "    <tr>\n",
       "      <th>0</th>\n",
       "      <td>Odder Kommune</td>\n",
       "      <td>58796</td>\n",
       "      <td>Denmark</td>\n",
       "      <td>Odder Kommune</td>\n",
       "      <td>NaN</td>\n",
       "      <td>2016</td>\n",
       "      <td>Total</td>\n",
       "      <td>NaN</td>\n",
       "      <td>2010</td>\n",
       "      <td>6136.0</td>\n",
       "      <td>2.0</td>\n",
       "      <td>NaN</td>\n",
       "      <td>NaN</td>\n",
       "      <td>(55.975718, 10.149958)</td>\n",
       "      <td>(56.26392, 9.501785)</td>\n",
       "    </tr>\n",
       "  </tbody>\n",
       "</table>\n",
       "</div>"
      ],
      "text/plain": [
       "  Organization_name  Organization_id  Country City Short Name  C40  \\\n",
       "0     Odder Kommune            58796  Denmark   Odder Kommune  NaN   \n",
       "\n",
       "   Reporting Year Sector Target boundary Baseline year  \\\n",
       "0            2016  Total             NaN          2010   \n",
       "\n",
       "   Baseline emissions (metric tonnes CO2e)  Percentage reduction target  \\\n",
       "0                                   6136.0                          2.0   \n",
       "\n",
       "   Target date Comment           City Location      Country Location  \n",
       "0          NaN     NaN  (55.975718, 10.149958)  (56.26392, 9.501785)  "
      ]
     },
     "execution_count": 4,
     "metadata": {},
     "output_type": "execute_result"
    }
   ],
   "source": [
    "df1.head(1)\n",
    "df1.rename(columns={'Account No': org_no,'Organisation': org_name}, inplace=True)\n",
    "df1.head(1)\n"
   ]
  },
  {
   "cell_type": "code",
   "execution_count": 5,
   "metadata": {},
   "outputs": [
    {
     "data": {
      "text/html": [
       "<div>\n",
       "<style scoped>\n",
       "    .dataframe tbody tr th:only-of-type {\n",
       "        vertical-align: middle;\n",
       "    }\n",
       "\n",
       "    .dataframe tbody tr th {\n",
       "        vertical-align: top;\n",
       "    }\n",
       "\n",
       "    .dataframe thead th {\n",
       "        text-align: right;\n",
       "    }\n",
       "</style>\n",
       "<table border=\"1\" class=\"dataframe\">\n",
       "  <thead>\n",
       "    <tr style=\"text-align: right;\">\n",
       "      <th></th>\n",
       "      <th>Organization_id</th>\n",
       "      <th>Organization_name</th>\n",
       "      <th>Country</th>\n",
       "      <th>City Short Name</th>\n",
       "      <th>C40</th>\n",
       "      <th>Reporting Year</th>\n",
       "      <th>Measurement Year</th>\n",
       "      <th>Boundary</th>\n",
       "      <th>Primary Methodology</th>\n",
       "      <th>Methodology Details</th>\n",
       "      <th>...</th>\n",
       "      <th>Current Population</th>\n",
       "      <th>City GDP</th>\n",
       "      <th>GDP Currency</th>\n",
       "      <th>Year of GDP</th>\n",
       "      <th>GDP Source</th>\n",
       "      <th>Average annual temperature (in Celsius)​</th>\n",
       "      <th>​Land area (in square km)</th>\n",
       "      <th>Average altitude (m)</th>\n",
       "      <th>City Location</th>\n",
       "      <th>Country Location</th>\n",
       "    </tr>\n",
       "  </thead>\n",
       "  <tbody>\n",
       "    <tr>\n",
       "      <th>0</th>\n",
       "      <td>35894</td>\n",
       "      <td>Ville de Montreal</td>\n",
       "      <td>Canada</td>\n",
       "      <td>Montreal</td>\n",
       "      <td>NaN</td>\n",
       "      <td>2016</td>\n",
       "      <td>12/31/2009 12:00:00 AM</td>\n",
       "      <td>Other: The regional entity that constitutes th...</td>\n",
       "      <td>2006 IPCC Guidelines for National Greenhouse G...</td>\n",
       "      <td>2006 IPCC Guidelines for National Greenhouse G...</td>\n",
       "      <td>...</td>\n",
       "      <td>1886481.0</td>\n",
       "      <td>1.201180e+11</td>\n",
       "      <td>CAD     Canadian Dollar</td>\n",
       "      <td>2014.0</td>\n",
       "      <td>Ville de Montréal, Montréal en statistiques, h...</td>\n",
       "      <td>6.8</td>\n",
       "      <td>500.0</td>\n",
       "      <td>17.0</td>\n",
       "      <td>(45.5086699, -73.5539925)</td>\n",
       "      <td>(56.130366, -106.346771)</td>\n",
       "    </tr>\n",
       "  </tbody>\n",
       "</table>\n",
       "<p>1 rows × 27 columns</p>\n",
       "</div>"
      ],
      "text/plain": [
       "   Organization_id  Organization_name Country City Short Name  C40  \\\n",
       "0            35894  Ville de Montreal  Canada        Montreal  NaN   \n",
       "\n",
       "   Reporting Year        Measurement Year  \\\n",
       "0            2016  12/31/2009 12:00:00 AM   \n",
       "\n",
       "                                            Boundary  \\\n",
       "0  Other: The regional entity that constitutes th...   \n",
       "\n",
       "                                 Primary Methodology  \\\n",
       "0  2006 IPCC Guidelines for National Greenhouse G...   \n",
       "\n",
       "                                 Methodology Details  ... Current Population  \\\n",
       "0  2006 IPCC Guidelines for National Greenhouse G...  ...          1886481.0   \n",
       "\n",
       "       City GDP             GDP Currency  Year of GDP  \\\n",
       "0  1.201180e+11  CAD     Canadian Dollar       2014.0   \n",
       "\n",
       "                                          GDP Source  \\\n",
       "0  Ville de Montréal, Montréal en statistiques, h...   \n",
       "\n",
       "  Average annual temperature (in Celsius)​  ​Land area (in square km)  \\\n",
       "0                                      6.8                      500.0   \n",
       "\n",
       "   Average altitude (m)              City Location          Country Location  \n",
       "0                  17.0  (45.5086699, -73.5539925)  (56.130366, -106.346771)  \n",
       "\n",
       "[1 rows x 27 columns]"
      ]
     },
     "execution_count": 5,
     "metadata": {},
     "output_type": "execute_result"
    }
   ],
   "source": [
    "df2.head(1)\n",
    "df2.rename(columns={'Account Number': org_no,'City Name': org_name}, inplace=True)\n",
    "df2.head(1)"
   ]
  },
  {
   "cell_type": "code",
   "execution_count": 6,
   "metadata": {},
   "outputs": [
    {
     "data": {
      "text/html": [
       "<div>\n",
       "<style scoped>\n",
       "    .dataframe tbody tr th:only-of-type {\n",
       "        vertical-align: middle;\n",
       "    }\n",
       "\n",
       "    .dataframe tbody tr th {\n",
       "        vertical-align: top;\n",
       "    }\n",
       "\n",
       "    .dataframe thead th {\n",
       "        text-align: right;\n",
       "    }\n",
       "</style>\n",
       "<table border=\"1\" class=\"dataframe\">\n",
       "  <thead>\n",
       "    <tr style=\"text-align: right;\">\n",
       "      <th></th>\n",
       "      <th>Organization_id</th>\n",
       "      <th>Organization_name</th>\n",
       "      <th>City</th>\n",
       "      <th>Country</th>\n",
       "      <th>Region</th>\n",
       "      <th>C40</th>\n",
       "      <th>Access</th>\n",
       "      <th>Reporting year</th>\n",
       "      <th>Accounting year</th>\n",
       "      <th>Boundary</th>\n",
       "      <th>...</th>\n",
       "      <th>Population year</th>\n",
       "      <th>GDP</th>\n",
       "      <th>GDP Currency</th>\n",
       "      <th>GDP Year</th>\n",
       "      <th>GDP Source</th>\n",
       "      <th>Average annual temperature (in Celsius)​</th>\n",
       "      <th>​Average altitude (m)</th>\n",
       "      <th>​Land area (in square km)</th>\n",
       "      <th>City Location</th>\n",
       "      <th>Country Location</th>\n",
       "    </tr>\n",
       "  </thead>\n",
       "  <tbody>\n",
       "    <tr>\n",
       "      <th>0</th>\n",
       "      <td>49363</td>\n",
       "      <td>Nelson Mandela Bay Municipality</td>\n",
       "      <td>Nelson Mandela Bay</td>\n",
       "      <td>South Africa</td>\n",
       "      <td>Africa</td>\n",
       "      <td>NaN</td>\n",
       "      <td>Public</td>\n",
       "      <td>2017</td>\n",
       "      <td>2013-07-01 - 2014-06-30</td>\n",
       "      <td>A metropolitan area</td>\n",
       "      <td>...</td>\n",
       "      <td>2011</td>\n",
       "      <td>52147.0</td>\n",
       "      <td>ZAR     South African Rand</td>\n",
       "      <td>2010.0</td>\n",
       "      <td>Built Environment Performance Plan(BEPP)</td>\n",
       "      <td>17.5</td>\n",
       "      <td>69.0</td>\n",
       "      <td>1950.0</td>\n",
       "      <td>(-33.745241, 25.568108)</td>\n",
       "      <td>(-30.559482, 22.937506)</td>\n",
       "    </tr>\n",
       "  </tbody>\n",
       "</table>\n",
       "<p>1 rows × 31 columns</p>\n",
       "</div>"
      ],
      "text/plain": [
       "   Organization_id                Organization_name                 City  \\\n",
       "0            49363  Nelson Mandela Bay Municipality  Nelson Mandela Bay    \n",
       "\n",
       "        Country  Region  C40  Access  Reporting year          Accounting year  \\\n",
       "0  South Africa  Africa  NaN  Public            2017  2013-07-01 - 2014-06-30   \n",
       "\n",
       "              Boundary  ... Population year      GDP  \\\n",
       "0  A metropolitan area  ...            2011  52147.0   \n",
       "\n",
       "                 GDP Currency  GDP Year  \\\n",
       "0  ZAR     South African Rand    2010.0   \n",
       "\n",
       "                                 GDP Source  \\\n",
       "0  Built Environment Performance Plan(BEPP)   \n",
       "\n",
       "   Average annual temperature (in Celsius)​  ​Average altitude (m)  \\\n",
       "0                                      17.5                   69.0   \n",
       "\n",
       "  ​Land area (in square km)            City Location         Country Location  \n",
       "0                    1950.0  (-33.745241, 25.568108)  (-30.559482, 22.937506)  \n",
       "\n",
       "[1 rows x 31 columns]"
      ]
     },
     "execution_count": 6,
     "metadata": {},
     "output_type": "execute_result"
    }
   ],
   "source": [
    "df3.head(1)\n",
    "df3.rename(columns={'Account number': org_no,'Organization': org_name}, inplace=True)\n",
    "df3.head(1)"
   ]
  },
  {
   "cell_type": "code",
   "execution_count": 7,
   "metadata": {},
   "outputs": [
    {
     "data": {
      "text/html": [
       "<div>\n",
       "<style scoped>\n",
       "    .dataframe tbody tr th:only-of-type {\n",
       "        vertical-align: middle;\n",
       "    }\n",
       "\n",
       "    .dataframe tbody tr th {\n",
       "        vertical-align: top;\n",
       "    }\n",
       "\n",
       "    .dataframe thead th {\n",
       "        text-align: right;\n",
       "    }\n",
       "</style>\n",
       "<table border=\"1\" class=\"dataframe\">\n",
       "  <thead>\n",
       "    <tr style=\"text-align: right;\">\n",
       "      <th></th>\n",
       "      <th>Organization_id</th>\n",
       "      <th>Organization_name</th>\n",
       "      <th>City</th>\n",
       "      <th>Country</th>\n",
       "      <th>Region</th>\n",
       "      <th>Access</th>\n",
       "      <th>C40</th>\n",
       "      <th>Reporting year</th>\n",
       "      <th>Type of target</th>\n",
       "      <th>Sector</th>\n",
       "      <th>...</th>\n",
       "      <th>Baseline emissions (metric tonnes CO2e)</th>\n",
       "      <th>Percentage reduction target</th>\n",
       "      <th>Target date</th>\n",
       "      <th>Estimated business as usual absolute emissions in target year (metric tonnes CO2e)</th>\n",
       "      <th>​Intensity unit (emissions per)</th>\n",
       "      <th>Comment</th>\n",
       "      <th>Population</th>\n",
       "      <th>Population Year</th>\n",
       "      <th>City Location</th>\n",
       "      <th>Country Location</th>\n",
       "    </tr>\n",
       "  </thead>\n",
       "  <tbody>\n",
       "    <tr>\n",
       "      <th>0</th>\n",
       "      <td>54408</td>\n",
       "      <td>Aarhus Kommune</td>\n",
       "      <td>Aarhus</td>\n",
       "      <td>Denmark</td>\n",
       "      <td>Europe</td>\n",
       "      <td>Public</td>\n",
       "      <td>NaN</td>\n",
       "      <td>2017</td>\n",
       "      <td>Absolute target</td>\n",
       "      <td>NaN</td>\n",
       "      <td>...</td>\n",
       "      <td>NaN</td>\n",
       "      <td>100.0</td>\n",
       "      <td>2030</td>\n",
       "      <td>NaN</td>\n",
       "      <td>NaN</td>\n",
       "      <td>NaN</td>\n",
       "      <td>336000.0</td>\n",
       "      <td>2017.0</td>\n",
       "      <td>(56.168393, 10.137373)</td>\n",
       "      <td>(56.26392, 9.501785)</td>\n",
       "    </tr>\n",
       "  </tbody>\n",
       "</table>\n",
       "<p>1 rows × 21 columns</p>\n",
       "</div>"
      ],
      "text/plain": [
       "   Organization_id Organization_name    City  Country  Region  Access  C40  \\\n",
       "0            54408    Aarhus Kommune  Aarhus  Denmark  Europe  Public  NaN   \n",
       "\n",
       "   Reporting year   Type of target Sector  ...  \\\n",
       "0            2017  Absolute target    NaN  ...   \n",
       "\n",
       "  Baseline emissions (metric tonnes CO2e)  Percentage reduction target  \\\n",
       "0                                     NaN                        100.0   \n",
       "\n",
       "   Target date  \\\n",
       "0         2030   \n",
       "\n",
       "  Estimated business as usual absolute emissions in target year (metric tonnes CO2e)  \\\n",
       "0                                                NaN                                   \n",
       "\n",
       "   ​Intensity unit (emissions per) Comment Population  Population Year  \\\n",
       "0                              NaN     NaN   336000.0           2017.0   \n",
       "\n",
       "            City Location      Country Location  \n",
       "0  (56.168393, 10.137373)  (56.26392, 9.501785)  \n",
       "\n",
       "[1 rows x 21 columns]"
      ]
     },
     "execution_count": 7,
     "metadata": {},
     "output_type": "execute_result"
    }
   ],
   "source": [
    "df4.head(1)\n",
    "df4.rename(columns={'Account No': org_no,'Organisation': org_name}, inplace=True)\n",
    "df4.head(1)"
   ]
  },
  {
   "cell_type": "code",
   "execution_count": 8,
   "metadata": {},
   "outputs": [
    {
     "data": {
      "text/html": [
       "<div>\n",
       "<style scoped>\n",
       "    .dataframe tbody tr th:only-of-type {\n",
       "        vertical-align: middle;\n",
       "    }\n",
       "\n",
       "    .dataframe tbody tr th {\n",
       "        vertical-align: top;\n",
       "    }\n",
       "\n",
       "    .dataframe thead th {\n",
       "        text-align: right;\n",
       "    }\n",
       "</style>\n",
       "<table border=\"1\" class=\"dataframe\">\n",
       "  <thead>\n",
       "    <tr style=\"text-align: right;\">\n",
       "      <th></th>\n",
       "      <th>Questionnaire</th>\n",
       "      <th>Organization_id</th>\n",
       "      <th>Organization_name</th>\n",
       "      <th>City</th>\n",
       "      <th>Country/Area</th>\n",
       "      <th>CDP Region</th>\n",
       "      <th>C40 City</th>\n",
       "      <th>GCoM City</th>\n",
       "      <th>Access</th>\n",
       "      <th>Assessment attachment and/or direct link</th>\n",
       "      <th>Confirm attachment/link provided</th>\n",
       "      <th>Boundary of assessment relative to jurisdiction boundary</th>\n",
       "      <th>Year of publication or approval</th>\n",
       "      <th>Factors considered in assessment</th>\n",
       "      <th>Primary author(s) of assessment</th>\n",
       "      <th>Does the city have adaptation goal(s) and/or an adaptation plan?</th>\n",
       "      <th>Population</th>\n",
       "      <th>Population Year</th>\n",
       "      <th>City Location</th>\n",
       "      <th>Last update</th>\n",
       "    </tr>\n",
       "  </thead>\n",
       "  <tbody>\n",
       "    <tr>\n",
       "      <th>0</th>\n",
       "      <td>Cities 2023</td>\n",
       "      <td>840926</td>\n",
       "      <td>Prefeitura de Serra Talhada</td>\n",
       "      <td>NaN</td>\n",
       "      <td>Brazil</td>\n",
       "      <td>Latin America</td>\n",
       "      <td>False</td>\n",
       "      <td>True</td>\n",
       "      <td>public</td>\n",
       "      <td>https://drive.google.com/file/d/19DMxxK532IQSL...</td>\n",
       "      <td>The assessment can be accessed (unrestricted) ...</td>\n",
       "      <td>Same - covers entire jurisdiction and nothing ...</td>\n",
       "      <td>2022.0</td>\n",
       "      <td>Assessment considers vulnerable populations; A...</td>\n",
       "      <td>Dedicated team within jurisdiction; Relevant d...</td>\n",
       "      <td>Adaptation goal(s) and adaptation plan</td>\n",
       "      <td>92228</td>\n",
       "      <td>2023.0</td>\n",
       "      <td>NaN</td>\n",
       "      <td>02/07/2024 04:14:16 AM</td>\n",
       "    </tr>\n",
       "  </tbody>\n",
       "</table>\n",
       "</div>"
      ],
      "text/plain": [
       "  Questionnaire  Organization_id            Organization_name City  \\\n",
       "0   Cities 2023           840926  Prefeitura de Serra Talhada  NaN   \n",
       "\n",
       "  Country/Area     CDP Region  C40 City  GCoM City  Access  \\\n",
       "0       Brazil  Latin America     False       True  public   \n",
       "\n",
       "            Assessment attachment and/or direct link  \\\n",
       "0  https://drive.google.com/file/d/19DMxxK532IQSL...   \n",
       "\n",
       "                    Confirm attachment/link provided  \\\n",
       "0  The assessment can be accessed (unrestricted) ...   \n",
       "\n",
       "  Boundary of assessment relative to jurisdiction boundary  \\\n",
       "0  Same - covers entire jurisdiction and nothing ...         \n",
       "\n",
       "   Year of publication or approval  \\\n",
       "0                           2022.0   \n",
       "\n",
       "                    Factors considered in assessment  \\\n",
       "0  Assessment considers vulnerable populations; A...   \n",
       "\n",
       "                     Primary author(s) of assessment  \\\n",
       "0  Dedicated team within jurisdiction; Relevant d...   \n",
       "\n",
       "  Does the city have adaptation goal(s) and/or an adaptation plan?  \\\n",
       "0             Adaptation goal(s) and adaptation plan                 \n",
       "\n",
       "   Population  Population Year City Location             Last update  \n",
       "0       92228           2023.0           NaN  02/07/2024 04:14:16 AM  "
      ]
     },
     "execution_count": 8,
     "metadata": {},
     "output_type": "execute_result"
    }
   ],
   "source": [
    "df5.head(1)\n",
    "df5.rename(columns={'Organization Number': org_no,'Organization Name': org_name}, inplace=True)\n",
    "df5.head(1)"
   ]
  },
  {
   "cell_type": "markdown",
   "metadata": {},
   "source": [
    "#### Combining org number and name into a new dataframe"
   ]
  },
  {
   "cell_type": "code",
   "execution_count": 9,
   "metadata": {},
   "outputs": [
    {
     "data": {
      "text/plain": [
       "Organization_id      869\n",
       "Organization_name    983\n",
       "dtype: int64"
      ]
     },
     "execution_count": 9,
     "metadata": {},
     "output_type": "execute_result"
    }
   ],
   "source": [
    "# This takes all rows of all 5 datasets, but only adds the org name and number\n",
    "combined_df = pd.concat([\n",
    "    df1[[org_no, org_name]],\n",
    "    df2[[org_no, org_name]],\n",
    "    df3[[org_no, org_name]],\n",
    "    df4[[org_no, org_name]],\n",
    "    df5[[org_no, org_name]],\n",
    "])\n",
    "\n",
    "# Then all duplicates are dropped to get unique pairs\n",
    "newdf = combined_df.drop_duplicates().reset_index(drop=True)\n",
    "newdf.nunique()"
   ]
  },
  {
   "cell_type": "code",
   "execution_count": 10,
   "metadata": {},
   "outputs": [
    {
     "name": "stdout",
     "output_type": "stream",
     "text": [
      "Organization_id\n",
      "1093                [City of Atlanta, City of Atlanta, GA]\n",
      "1184                  [City of Austin, City of Austin, TX]\n",
      "1499          [Ajuntament de Barcelona, City of Barcelona]\n",
      "3203                [City of Chicago, City of Chicago, IL]\n",
      "3417                    [New York City, New York City, NY]\n",
      "                               ...                        \n",
      "60577    [Frederikshavn Kommune, Frederikshavn Municipa...\n",
      "60588             [City of Alba-Iulia, City of Alba Iulia]\n",
      "61753              [Yilan County, Yilan County Government]\n",
      "63543      [Fredensborg Kommune, Fredensborg Municipality]\n",
      "64014           [City of Cupertino, City of Cupertino, CA]\n",
      "Name: Organization_name, Length: 114, dtype: object\n"
     ]
    }
   ],
   "source": [
    "# Group by 'Organization Number' and filter to find duplicates with different 'Organization Name'\n",
    "duplicate_org_numbers = newdf.groupby(org_no).filter(lambda x: x[org_name].nunique() > 1)\n",
    "\n",
    "# To see each 'Organization Number' with its associated 'Organization Names'\n",
    "duplicates_summary = duplicate_org_numbers.groupby(org_no)[org_name].unique()\n",
    "print(duplicates_summary)\n"
   ]
  },
  {
   "cell_type": "code",
   "execution_count": 11,
   "metadata": {},
   "outputs": [
    {
     "name": "stdout",
     "output_type": "stream",
     "text": [
      "     Organization_id           Organization_name\n",
      "0               1093         City of Atlanta, GA\n",
      "1               1184          City of Austin, TX\n",
      "2               1499     Ajuntament de Barcelona\n",
      "3               3203         City of Chicago, IL\n",
      "4               3417           New York City, NY\n",
      "..               ...                         ...\n",
      "109            60577  Frederikshavn Municipality\n",
      "110            60588          City of Alba-Iulia\n",
      "111            61753     Yilan County Government\n",
      "112            63543    Fredensborg Municipality\n",
      "113            64014       City of Cupertino, CA\n",
      "\n",
      "[114 rows x 2 columns]\n"
     ]
    },
    {
     "name": "stderr",
     "output_type": "stream",
     "text": [
      "/var/folders/j8/90cw3p5n71g7h09g80k64v680000gn/T/ipykernel_75948/38433268.py:7: DeprecationWarning: DataFrameGroupBy.apply operated on the grouping columns. This behavior is deprecated, and in a future version of pandas the grouping columns will be excluded from the operation. Either pass `include_groups=False` to exclude the groupings or explicitly select the grouping columns after groupby to silence this warning.\n",
      "  longest_names_df = duplicate_org_numbers.groupby(org_no).apply(keep_longest_name).reset_index(drop=True)\n"
     ]
    }
   ],
   "source": [
    "# Function to return the row with the longest 'Organization Name' for each 'Organization Number'\n",
    "def keep_longest_name(group):\n",
    "    lengths = group[org_name].str.len()  # Get the length of each organization name\n",
    "    return group.loc[lengths.idxmax()]  # Return the row with the longest organization name\n",
    "\n",
    "# Apply the function to each group of duplicates\n",
    "longest_names_df = duplicate_org_numbers.groupby(org_no).apply(keep_longest_name).reset_index(drop=True)\n",
    "print(longest_names_df)\n",
    "# Now, longest_names_df contains only the rows with the longest 'Organization Name' for each 'Organization Number'\n"
   ]
  },
  {
   "cell_type": "code",
   "execution_count": 12,
   "metadata": {},
   "outputs": [
    {
     "data": {
      "text/html": [
       "<div>\n",
       "<style scoped>\n",
       "    .dataframe tbody tr th:only-of-type {\n",
       "        vertical-align: middle;\n",
       "    }\n",
       "\n",
       "    .dataframe tbody tr th {\n",
       "        vertical-align: top;\n",
       "    }\n",
       "\n",
       "    .dataframe thead th {\n",
       "        text-align: right;\n",
       "    }\n",
       "</style>\n",
       "<table border=\"1\" class=\"dataframe\">\n",
       "  <thead>\n",
       "    <tr style=\"text-align: right;\">\n",
       "      <th></th>\n",
       "      <th>Organization_id</th>\n",
       "      <th>Organization_name</th>\n",
       "    </tr>\n",
       "  </thead>\n",
       "  <tbody>\n",
       "    <tr>\n",
       "      <th>0</th>\n",
       "      <td>58796</td>\n",
       "      <td>Odder Kommune</td>\n",
       "    </tr>\n",
       "    <tr>\n",
       "      <th>1</th>\n",
       "      <td>36158</td>\n",
       "      <td>Comune di Napoli</td>\n",
       "    </tr>\n",
       "    <tr>\n",
       "      <th>2</th>\n",
       "      <td>62855</td>\n",
       "      <td>Egedal Municipality</td>\n",
       "    </tr>\n",
       "    <tr>\n",
       "      <th>3</th>\n",
       "      <td>61790</td>\n",
       "      <td>City of Emeryville, CA</td>\n",
       "    </tr>\n",
       "    <tr>\n",
       "      <th>4</th>\n",
       "      <td>62180</td>\n",
       "      <td>Communauté urbaine du Grand Nancy</td>\n",
       "    </tr>\n",
       "    <tr>\n",
       "      <th>...</th>\n",
       "      <td>...</td>\n",
       "      <td>...</td>\n",
       "    </tr>\n",
       "    <tr>\n",
       "      <th>864</th>\n",
       "      <td>60577</td>\n",
       "      <td>Frederikshavn Municipality</td>\n",
       "    </tr>\n",
       "    <tr>\n",
       "      <th>865</th>\n",
       "      <td>60588</td>\n",
       "      <td>City of Alba-Iulia</td>\n",
       "    </tr>\n",
       "    <tr>\n",
       "      <th>866</th>\n",
       "      <td>61753</td>\n",
       "      <td>Yilan County Government</td>\n",
       "    </tr>\n",
       "    <tr>\n",
       "      <th>867</th>\n",
       "      <td>63543</td>\n",
       "      <td>Fredensborg Municipality</td>\n",
       "    </tr>\n",
       "    <tr>\n",
       "      <th>868</th>\n",
       "      <td>64014</td>\n",
       "      <td>City of Cupertino, CA</td>\n",
       "    </tr>\n",
       "  </tbody>\n",
       "</table>\n",
       "<p>869 rows × 2 columns</p>\n",
       "</div>"
      ],
      "text/plain": [
       "     Organization_id                  Organization_name\n",
       "0              58796                      Odder Kommune\n",
       "1              36158                   Comune di Napoli\n",
       "2              62855                Egedal Municipality\n",
       "3              61790             City of Emeryville, CA\n",
       "4              62180  Communauté urbaine du Grand Nancy\n",
       "..               ...                                ...\n",
       "864            60577         Frederikshavn Municipality\n",
       "865            60588                 City of Alba-Iulia\n",
       "866            61753            Yilan County Government\n",
       "867            63543           Fredensborg Municipality\n",
       "868            64014              City of Cupertino, CA\n",
       "\n",
       "[869 rows x 2 columns]"
      ]
     },
     "execution_count": 12,
     "metadata": {},
     "output_type": "execute_result"
    }
   ],
   "source": [
    "# Step 1: Drop rows in newdf that have a matching 'Organization Number' in longest_names_df\n",
    "org_numbers_to_remove = longest_names_df[org_no].unique()\n",
    "newdf_filtered = newdf[~newdf[org_no].isin(org_numbers_to_remove)]\n",
    "\n",
    "# Step 2: Concatenate newdf_filtered and longest_names_df\n",
    "final_df = pd.concat([newdf_filtered, longest_names_df], ignore_index=True)\n",
    "final_df\n",
    "\n",
    "# final_df now contains the original data from newdf with duplicates removed, \n",
    "# and replaced by the rows with the longest 'Organization Name' for each 'Organization Number'\n"
   ]
  },
  {
   "cell_type": "code",
   "execution_count": 13,
   "metadata": {},
   "outputs": [
    {
     "name": "stdout",
     "output_type": "stream",
     "text": [
      "Number of nulls in Organization_id: 0\n",
      "Number of nulls in Organization_name: 0\n",
      "{<bound method IndexOpsMixin.nunique of 0      58796\n",
      "1      36158\n",
      "2      62855\n",
      "3      61790\n",
      "4      62180\n",
      "       ...  \n",
      "864    60577\n",
      "865    60588\n",
      "866    61753\n",
      "867    63543\n",
      "868    64014\n",
      "Name: Organization_id, Length: 869, dtype: int64>}\n",
      "{<bound method IndexOpsMixin.nunique of 0                          Odder Kommune\n",
      "1                       Comune di Napoli\n",
      "2                    Egedal Municipality\n",
      "3                 City of Emeryville, CA\n",
      "4      Communauté urbaine du Grand Nancy\n",
      "                     ...                \n",
      "864           Frederikshavn Municipality\n",
      "865                   City of Alba-Iulia\n",
      "866              Yilan County Government\n",
      "867             Fredensborg Municipality\n",
      "868                City of Cupertino, CA\n",
      "Name: Organization_name, Length: 869, dtype: object>}\n"
     ]
    }
   ],
   "source": [
    "# To make sure that there are zero nulls in Organization Number and Name column\n",
    "num_nulls_num = final_df[org_no].isnull().sum()\n",
    "print(f\"Number of nulls in {org_no}: {num_nulls_num}\")\n",
    "num_nulls_name = final_df[org_no].isnull().sum()\n",
    "print(f\"Number of nulls in {org_name}: {num_nulls_name}\")\n",
    "\n",
    "# To check if there are duplicates\n",
    "print({final_df[org_no].nunique})\n",
    "print({final_df[org_name].nunique})"
   ]
  },
  {
   "cell_type": "markdown",
   "metadata": {},
   "source": [
    "#### Normalisation of C40 "
   ]
  },
  {
   "cell_type": "code",
   "execution_count": 14,
   "metadata": {},
   "outputs": [
    {
     "data": {
      "text/plain": [
       "0    False\n",
       "1     True\n",
       "Name: C40 City, dtype: bool"
      ]
     },
     "execution_count": 14,
     "metadata": {},
     "output_type": "execute_result"
    }
   ],
   "source": [
    "# Need to change df5 'C40 City'\n",
    "df5['C40 City'].head(2)"
   ]
  },
  {
   "cell_type": "code",
   "execution_count": 15,
   "metadata": {},
   "outputs": [
    {
     "data": {
      "text/plain": [
       "0    False\n",
       "1     True\n",
       "Name: C40_member, dtype: bool"
      ]
     },
     "execution_count": 15,
     "metadata": {},
     "output_type": "execute_result"
    }
   ],
   "source": [
    "# Renaming the column\n",
    "df5.rename(columns={'C40 City': c40}, inplace=True)\n",
    "df5[c40].head(2)"
   ]
  },
  {
   "cell_type": "code",
   "execution_count": 16,
   "metadata": {},
   "outputs": [
    {
     "name": "stdout",
     "output_type": "stream",
     "text": [
      "Unique values in C40 column of DataFrame 1: [nan 'C40']\n",
      "Unique values in C40 column of DataFrame 2: [nan 'C40']\n",
      "Unique values in C40 column of DataFrame 3: [nan 'C40']\n",
      "Unique values in C40 column of DataFrame 4: [nan 'C40']\n"
     ]
    }
   ],
   "source": [
    "# Df1 to 4 all have the 'C40' column, and should only have the unique values 'C40' and null\n",
    "dfs = [df1, df2, df3, df4]\n",
    "\n",
    "# Iterate through each DataFrame and print unique values in the \"C40\" column\n",
    "for i, df in enumerate(dfs, start=1):\n",
    "    unique_values = df['C40'].unique()\n",
    "    print(f\"Unique values in C40 column of DataFrame {i}: {unique_values}\")"
   ]
  },
  {
   "cell_type": "code",
   "execution_count": 17,
   "metadata": {},
   "outputs": [],
   "source": [
    "# Assuming your DataFrames are named df1, df2, df3, df4\n",
    "dataframes = [df1, df2, df3, df4]\n",
    "\n",
    "# Iterate through each DataFrame and update the \"C40\" column\n",
    "for df in dataframes:\n",
    "    df['C40'] = df['C40'] == 'C40'\n",
    "\n",
    "# At this point, each DataFrame will have the \"C40\" column with True where the value was 'C40', and False otherwise (including null values)"
   ]
  },
  {
   "cell_type": "code",
   "execution_count": 18,
   "metadata": {},
   "outputs": [
    {
     "name": "stdout",
     "output_type": "stream",
     "text": [
      "Unique values in C40 column of DataFrame 1: [False  True]\n",
      "Unique values in C40 column of DataFrame 2: [False  True]\n",
      "Unique values in C40 column of DataFrame 3: [False  True]\n",
      "Unique values in C40 column of DataFrame 4: [False  True]\n"
     ]
    }
   ],
   "source": [
    "# Running this again to prove that it's only false and true now\n",
    "# Iterate through each DataFrame and print unique values in the \"C40\" column\n",
    "for i, df in enumerate(dfs, start=1):\n",
    "    unique_values = df['C40'].unique()\n",
    "    print(f\"Unique values in C40 column of DataFrame {i}: {unique_values}\")"
   ]
  },
  {
   "cell_type": "code",
   "execution_count": 19,
   "metadata": {},
   "outputs": [
    {
     "data": {
      "text/plain": [
       "0    False\n",
       "1     True\n",
       "Name: C40_member, dtype: bool"
      ]
     },
     "execution_count": 19,
     "metadata": {},
     "output_type": "execute_result"
    }
   ],
   "source": [
    "df1.rename(columns={'C40': c40}, inplace=True)\n",
    "df2.rename(columns={'C40': c40}, inplace=True)\n",
    "df3.rename(columns={'C40': c40}, inplace=True)\n",
    "df4.rename(columns={'C40': c40}, inplace=True)\n",
    "\n",
    "df3[c40].head(2)"
   ]
  },
  {
   "cell_type": "code",
   "execution_count": 20,
   "metadata": {},
   "outputs": [
    {
     "name": "stdout",
     "output_type": "stream",
     "text": [
      "Warning: Inconsistencies found in 'C40' values for the same 'org id'.\n",
      "      Organization_id  C40_member\n",
      "22              36159       False\n",
      "74              31151        True\n",
      "75              31151        True\n",
      "92              36254        True\n",
      "93              36254        True\n",
      "...               ...         ...\n",
      "2223            35885        True\n",
      "2226            31151       False\n",
      "2312            35870        True\n",
      "2318            36254       False\n",
      "2376            35885        True\n",
      "\n",
      "[61 rows x 2 columns]\n"
     ]
    }
   ],
   "source": [
    "# Now we need to add the C40 column to the 'final_df'\n",
    "# So we need to check if ther are inconsistencies in the C40 value between datasets (say it might be false in 2017 reduction target but true in \n",
    "# 2023 climate risk for the same org number)\n",
    "\n",
    "\n",
    "# Assuming the 'org id' column and 'C40' column are named 'org id' and 'C40' respectively in each df\n",
    "dataframes = [df1, df2, df3, df4, df5]\n",
    "\n",
    "# Combine all 'org id' and 'C40' into one DataFrame\n",
    "combined_c40 = pd.concat([df[[org_no, c40]] for df in dataframes], ignore_index=True)\n",
    "\n",
    "# Check if there are inconsistencies in 'C40' values for the same 'org id'\n",
    "inconsistent_c40 = combined_c40.groupby(org_no).filter(lambda x: x[c40].nunique() > 1)\n",
    "\n",
    "if not inconsistent_c40.empty:\n",
    "    print(\"Warning: Inconsistencies found in 'C40' values for the same 'org id'.\")\n",
    "    print(inconsistent_c40)\n",
    "else:\n",
    "    print(\"No inconsistencies in 'C40' values found.\")"
   ]
  },
  {
   "cell_type": "code",
   "execution_count": 21,
   "metadata": {},
   "outputs": [
    {
     "data": {
      "text/plain": [
       "array([36159, 31151, 36254, 35894, 31186, 35874, 35885, 35870])"
      ]
     },
     "execution_count": 21,
     "metadata": {},
     "output_type": "execute_result"
    }
   ],
   "source": [
    "# Find the unique org numbers\n",
    "inconsistent_c40[org_no].unique()"
   ]
  },
  {
   "cell_type": "code",
   "execution_count": 22,
   "metadata": {},
   "outputs": [
    {
     "name": "stdout",
     "output_type": "stream",
     "text": [
      "      Organization_id  C40_member\n",
      "93              35894        True\n",
      "111             31186       False\n",
      "135             35885        True\n",
      "167             35870        True\n",
      "421             35874        True\n",
      "477             36159        True\n",
      "636             31151       False\n",
      "1216            36254       False\n"
     ]
    }
   ],
   "source": [
    "# \n",
    "unique_inconsistent_c40 = df5.loc[df5[org_no].isin([36159, 31151, 36254, 35894, 31186, 35874, 35885, 35870])]\n",
    "# Select the 'org no' and 'C40' columns, then drop duplicates to get unique pairs\n",
    "unique_pairs = unique_inconsistent_c40[[org_no, c40]].drop_duplicates()\n",
    "\n",
    "# Display the unique pairs\n",
    "print(unique_pairs)\n"
   ]
  },
  {
   "cell_type": "code",
   "execution_count": 23,
   "metadata": {},
   "outputs": [
    {
     "name": "stdout",
     "output_type": "stream",
     "text": [
      "      Organization_id  C40_member\n",
      "0               58796       False\n",
      "1               36158       False\n",
      "2               62855       False\n",
      "3               61753       False\n",
      "4               61790       False\n",
      "...               ...         ...\n",
      "2454            73671       False\n",
      "2457            54306       False\n",
      "2461            31178        True\n",
      "2466           863001       False\n",
      "2471           924874       False\n",
      "\n",
      "[861 rows x 2 columns]\n"
     ]
    }
   ],
   "source": [
    "# Assuming 'org_no' is the column name in both combined_c40 and unique_pairs DataFrames\n",
    "# Get a list of org_no values to remove from combined_c40\n",
    "org_no_to_remove = unique_pairs[org_no].unique()\n",
    "\n",
    "# Filter out rows from combined_c40 where org_no matches any value in org_no_to_remove\n",
    "combined_c40_filtered = combined_c40[~combined_c40[org_no].isin(org_no_to_remove)]\n",
    "\n",
    "# combined_c40_filtered now contains rows from combined_c40 excluding those with org_no in unique_pairs\n",
    "unique_pairs_combined = combined_c40_filtered[[org_no, c40]].drop_duplicates()\n",
    "\n",
    "# Display the unique pairs\n",
    "print(unique_pairs_combined)\n"
   ]
  },
  {
   "cell_type": "code",
   "execution_count": 24,
   "metadata": {},
   "outputs": [
    {
     "data": {
      "text/html": [
       "<div>\n",
       "<style scoped>\n",
       "    .dataframe tbody tr th:only-of-type {\n",
       "        vertical-align: middle;\n",
       "    }\n",
       "\n",
       "    .dataframe tbody tr th {\n",
       "        vertical-align: top;\n",
       "    }\n",
       "\n",
       "    .dataframe thead th {\n",
       "        text-align: right;\n",
       "    }\n",
       "</style>\n",
       "<table border=\"1\" class=\"dataframe\">\n",
       "  <thead>\n",
       "    <tr style=\"text-align: right;\">\n",
       "      <th></th>\n",
       "      <th>Organization_id</th>\n",
       "      <th>C40_member</th>\n",
       "    </tr>\n",
       "  </thead>\n",
       "  <tbody>\n",
       "    <tr>\n",
       "      <th>0</th>\n",
       "      <td>58796</td>\n",
       "      <td>False</td>\n",
       "    </tr>\n",
       "    <tr>\n",
       "      <th>1</th>\n",
       "      <td>36158</td>\n",
       "      <td>False</td>\n",
       "    </tr>\n",
       "    <tr>\n",
       "      <th>2</th>\n",
       "      <td>62855</td>\n",
       "      <td>False</td>\n",
       "    </tr>\n",
       "    <tr>\n",
       "      <th>3</th>\n",
       "      <td>61753</td>\n",
       "      <td>False</td>\n",
       "    </tr>\n",
       "    <tr>\n",
       "      <th>4</th>\n",
       "      <td>61790</td>\n",
       "      <td>False</td>\n",
       "    </tr>\n",
       "    <tr>\n",
       "      <th>...</th>\n",
       "      <td>...</td>\n",
       "      <td>...</td>\n",
       "    </tr>\n",
       "    <tr>\n",
       "      <th>167</th>\n",
       "      <td>35870</td>\n",
       "      <td>True</td>\n",
       "    </tr>\n",
       "    <tr>\n",
       "      <th>421</th>\n",
       "      <td>35874</td>\n",
       "      <td>True</td>\n",
       "    </tr>\n",
       "    <tr>\n",
       "      <th>477</th>\n",
       "      <td>36159</td>\n",
       "      <td>True</td>\n",
       "    </tr>\n",
       "    <tr>\n",
       "      <th>636</th>\n",
       "      <td>31151</td>\n",
       "      <td>False</td>\n",
       "    </tr>\n",
       "    <tr>\n",
       "      <th>1216</th>\n",
       "      <td>36254</td>\n",
       "      <td>False</td>\n",
       "    </tr>\n",
       "  </tbody>\n",
       "</table>\n",
       "<p>869 rows × 2 columns</p>\n",
       "</div>"
      ],
      "text/plain": [
       "      Organization_id  C40_member\n",
       "0               58796       False\n",
       "1               36158       False\n",
       "2               62855       False\n",
       "3               61753       False\n",
       "4               61790       False\n",
       "...               ...         ...\n",
       "167             35870        True\n",
       "421             35874        True\n",
       "477             36159        True\n",
       "636             31151       False\n",
       "1216            36254       False\n",
       "\n",
       "[869 rows x 2 columns]"
      ]
     },
     "execution_count": 24,
     "metadata": {},
     "output_type": "execute_result"
    }
   ],
   "source": [
    "# Combine the 2 unique pairs dfs into 1\n",
    "combined_unique_pairs = pd.concat([unique_pairs_combined, unique_pairs]).drop_duplicates(subset=[org_no])\n",
    "combined_unique_pairs"
   ]
  },
  {
   "cell_type": "code",
   "execution_count": 25,
   "metadata": {},
   "outputs": [
    {
     "data": {
      "text/html": [
       "<div>\n",
       "<style scoped>\n",
       "    .dataframe tbody tr th:only-of-type {\n",
       "        vertical-align: middle;\n",
       "    }\n",
       "\n",
       "    .dataframe tbody tr th {\n",
       "        vertical-align: top;\n",
       "    }\n",
       "\n",
       "    .dataframe thead th {\n",
       "        text-align: right;\n",
       "    }\n",
       "</style>\n",
       "<table border=\"1\" class=\"dataframe\">\n",
       "  <thead>\n",
       "    <tr style=\"text-align: right;\">\n",
       "      <th></th>\n",
       "      <th>Organization_id</th>\n",
       "      <th>Organization_name</th>\n",
       "      <th>C40_member</th>\n",
       "    </tr>\n",
       "  </thead>\n",
       "  <tbody>\n",
       "    <tr>\n",
       "      <th>0</th>\n",
       "      <td>58796</td>\n",
       "      <td>Odder Kommune</td>\n",
       "      <td>False</td>\n",
       "    </tr>\n",
       "    <tr>\n",
       "      <th>1</th>\n",
       "      <td>36158</td>\n",
       "      <td>Comune di Napoli</td>\n",
       "      <td>False</td>\n",
       "    </tr>\n",
       "    <tr>\n",
       "      <th>2</th>\n",
       "      <td>62855</td>\n",
       "      <td>Egedal Municipality</td>\n",
       "      <td>False</td>\n",
       "    </tr>\n",
       "    <tr>\n",
       "      <th>3</th>\n",
       "      <td>61790</td>\n",
       "      <td>City of Emeryville, CA</td>\n",
       "      <td>False</td>\n",
       "    </tr>\n",
       "    <tr>\n",
       "      <th>4</th>\n",
       "      <td>62180</td>\n",
       "      <td>Communauté urbaine du Grand Nancy</td>\n",
       "      <td>False</td>\n",
       "    </tr>\n",
       "    <tr>\n",
       "      <th>...</th>\n",
       "      <td>...</td>\n",
       "      <td>...</td>\n",
       "      <td>...</td>\n",
       "    </tr>\n",
       "    <tr>\n",
       "      <th>864</th>\n",
       "      <td>60577</td>\n",
       "      <td>Frederikshavn Municipality</td>\n",
       "      <td>False</td>\n",
       "    </tr>\n",
       "    <tr>\n",
       "      <th>865</th>\n",
       "      <td>60588</td>\n",
       "      <td>City of Alba-Iulia</td>\n",
       "      <td>False</td>\n",
       "    </tr>\n",
       "    <tr>\n",
       "      <th>866</th>\n",
       "      <td>61753</td>\n",
       "      <td>Yilan County Government</td>\n",
       "      <td>False</td>\n",
       "    </tr>\n",
       "    <tr>\n",
       "      <th>867</th>\n",
       "      <td>63543</td>\n",
       "      <td>Fredensborg Municipality</td>\n",
       "      <td>False</td>\n",
       "    </tr>\n",
       "    <tr>\n",
       "      <th>868</th>\n",
       "      <td>64014</td>\n",
       "      <td>City of Cupertino, CA</td>\n",
       "      <td>False</td>\n",
       "    </tr>\n",
       "  </tbody>\n",
       "</table>\n",
       "<p>869 rows × 3 columns</p>\n",
       "</div>"
      ],
      "text/plain": [
       "     Organization_id                  Organization_name  C40_member\n",
       "0              58796                      Odder Kommune       False\n",
       "1              36158                   Comune di Napoli       False\n",
       "2              62855                Egedal Municipality       False\n",
       "3              61790             City of Emeryville, CA       False\n",
       "4              62180  Communauté urbaine du Grand Nancy       False\n",
       "..               ...                                ...         ...\n",
       "864            60577         Frederikshavn Municipality       False\n",
       "865            60588                 City of Alba-Iulia       False\n",
       "866            61753            Yilan County Government       False\n",
       "867            63543           Fredensborg Municipality       False\n",
       "868            64014              City of Cupertino, CA       False\n",
       "\n",
       "[869 rows x 3 columns]"
      ]
     },
     "execution_count": 25,
     "metadata": {},
     "output_type": "execute_result"
    }
   ],
   "source": [
    "final_df_with_c40 = pd.merge(final_df, combined_unique_pairs, on=org_no, how='left')\n",
    "final_df_with_c40"
   ]
  },
  {
   "cell_type": "code",
   "execution_count": 26,
   "metadata": {},
   "outputs": [
    {
     "name": "stdout",
     "output_type": "stream",
     "text": [
      "      Organization_id  C40_member\n",
      "296             64014       False\n",
      "673             64014       False\n",
      "675             60577       False\n",
      "873             60588       False\n",
      "985             63543       False\n",
      "1114            60577       False\n"
     ]
    }
   ],
   "source": [
    "final_df_with_c40[c40].unique()\n",
    "final_df_with_c40_falseTrue = df5.loc[df5[org_no].isin([58796, 36158, 62855, 61790, 62180, 60577, 60588, 61753, 63543, 64014])]\n",
    "print(final_df_with_c40_falseTrue[[org_no, c40]])"
   ]
  },
  {
   "cell_type": "markdown",
   "metadata": {},
   "source": [
    "#### Normalisation of GCoM"
   ]
  },
  {
   "cell_type": "code",
   "execution_count": 27,
   "metadata": {},
   "outputs": [
    {
     "data": {
      "text/plain": [
       "0     True\n",
       "1    False\n",
       "2    False\n",
       "Name: GCoM City, dtype: bool"
      ]
     },
     "execution_count": 27,
     "metadata": {},
     "output_type": "execute_result"
    }
   ],
   "source": [
    "# Need to change df5 'C40 City'\n",
    "df5['GCoM City'].head(3)"
   ]
  },
  {
   "cell_type": "code",
   "execution_count": 28,
   "metadata": {},
   "outputs": [
    {
     "data": {
      "text/plain": [
       "0     True\n",
       "1    False\n",
       "Name: GCoM_member, dtype: bool"
      ]
     },
     "execution_count": 28,
     "metadata": {},
     "output_type": "execute_result"
    }
   ],
   "source": [
    "# Renaming the column\n",
    "df5.rename(columns={'GCoM City': GCoM}, inplace=True)\n",
    "df5[GCoM].head(2)"
   ]
  },
  {
   "cell_type": "code",
   "execution_count": 29,
   "metadata": {},
   "outputs": [
    {
     "data": {
      "text/html": [
       "<div>\n",
       "<style scoped>\n",
       "    .dataframe tbody tr th:only-of-type {\n",
       "        vertical-align: middle;\n",
       "    }\n",
       "\n",
       "    .dataframe tbody tr th {\n",
       "        vertical-align: top;\n",
       "    }\n",
       "\n",
       "    .dataframe thead th {\n",
       "        text-align: right;\n",
       "    }\n",
       "</style>\n",
       "<table border=\"1\" class=\"dataframe\">\n",
       "  <thead>\n",
       "    <tr style=\"text-align: right;\">\n",
       "      <th></th>\n",
       "      <th>Organization_id</th>\n",
       "      <th>GCoM_member</th>\n",
       "    </tr>\n",
       "  </thead>\n",
       "  <tbody>\n",
       "    <tr>\n",
       "      <th>0</th>\n",
       "      <td>840926</td>\n",
       "      <td>True</td>\n",
       "    </tr>\n",
       "    <tr>\n",
       "      <th>1</th>\n",
       "      <td>51075</td>\n",
       "      <td>False</td>\n",
       "    </tr>\n",
       "    <tr>\n",
       "      <th>2</th>\n",
       "      <td>863190</td>\n",
       "      <td>False</td>\n",
       "    </tr>\n",
       "    <tr>\n",
       "      <th>3</th>\n",
       "      <td>930366</td>\n",
       "      <td>True</td>\n",
       "    </tr>\n",
       "    <tr>\n",
       "      <th>4</th>\n",
       "      <td>60236</td>\n",
       "      <td>True</td>\n",
       "    </tr>\n",
       "    <tr>\n",
       "      <th>...</th>\n",
       "      <td>...</td>\n",
       "      <td>...</td>\n",
       "    </tr>\n",
       "    <tr>\n",
       "      <th>1356</th>\n",
       "      <td>31187</td>\n",
       "      <td>True</td>\n",
       "    </tr>\n",
       "    <tr>\n",
       "      <th>1357</th>\n",
       "      <td>44191</td>\n",
       "      <td>True</td>\n",
       "    </tr>\n",
       "    <tr>\n",
       "      <th>1359</th>\n",
       "      <td>31178</td>\n",
       "      <td>True</td>\n",
       "    </tr>\n",
       "    <tr>\n",
       "      <th>1364</th>\n",
       "      <td>863001</td>\n",
       "      <td>False</td>\n",
       "    </tr>\n",
       "    <tr>\n",
       "      <th>1369</th>\n",
       "      <td>924874</td>\n",
       "      <td>True</td>\n",
       "    </tr>\n",
       "  </tbody>\n",
       "</table>\n",
       "<p>741 rows × 2 columns</p>\n",
       "</div>"
      ],
      "text/plain": [
       "      Organization_id  GCoM_member\n",
       "0              840926         True\n",
       "1               51075        False\n",
       "2              863190        False\n",
       "3              930366         True\n",
       "4               60236         True\n",
       "...               ...          ...\n",
       "1356            31187         True\n",
       "1357            44191         True\n",
       "1359            31178         True\n",
       "1364           863001        False\n",
       "1369           924874         True\n",
       "\n",
       "[741 rows x 2 columns]"
      ]
     },
     "execution_count": 29,
     "metadata": {},
     "output_type": "execute_result"
    }
   ],
   "source": [
    "# Since only df5 has GCoM, we only need to get unique pairs between org_no and GCoM for df5\n",
    "unique_pairs_gcom = df5[[org_no, GCoM]].drop_duplicates()\n",
    "unique_pairs_gcom\n"
   ]
  },
  {
   "cell_type": "code",
   "execution_count": 30,
   "metadata": {},
   "outputs": [
    {
     "data": {
      "text/html": [
       "<div>\n",
       "<style scoped>\n",
       "    .dataframe tbody tr th:only-of-type {\n",
       "        vertical-align: middle;\n",
       "    }\n",
       "\n",
       "    .dataframe tbody tr th {\n",
       "        vertical-align: top;\n",
       "    }\n",
       "\n",
       "    .dataframe thead th {\n",
       "        text-align: right;\n",
       "    }\n",
       "</style>\n",
       "<table border=\"1\" class=\"dataframe\">\n",
       "  <thead>\n",
       "    <tr style=\"text-align: right;\">\n",
       "      <th></th>\n",
       "      <th>Organization_id</th>\n",
       "      <th>Organization_name</th>\n",
       "      <th>C40_member</th>\n",
       "      <th>GCoM_member</th>\n",
       "    </tr>\n",
       "  </thead>\n",
       "  <tbody>\n",
       "    <tr>\n",
       "      <th>0</th>\n",
       "      <td>58796</td>\n",
       "      <td>Odder Kommune</td>\n",
       "      <td>False</td>\n",
       "      <td>NaN</td>\n",
       "    </tr>\n",
       "    <tr>\n",
       "      <th>1</th>\n",
       "      <td>36158</td>\n",
       "      <td>Comune di Napoli</td>\n",
       "      <td>False</td>\n",
       "      <td>NaN</td>\n",
       "    </tr>\n",
       "    <tr>\n",
       "      <th>2</th>\n",
       "      <td>62855</td>\n",
       "      <td>Egedal Municipality</td>\n",
       "      <td>False</td>\n",
       "      <td>NaN</td>\n",
       "    </tr>\n",
       "    <tr>\n",
       "      <th>3</th>\n",
       "      <td>61790</td>\n",
       "      <td>City of Emeryville, CA</td>\n",
       "      <td>False</td>\n",
       "      <td>NaN</td>\n",
       "    </tr>\n",
       "    <tr>\n",
       "      <th>4</th>\n",
       "      <td>62180</td>\n",
       "      <td>Communauté urbaine du Grand Nancy</td>\n",
       "      <td>False</td>\n",
       "      <td>NaN</td>\n",
       "    </tr>\n",
       "    <tr>\n",
       "      <th>...</th>\n",
       "      <td>...</td>\n",
       "      <td>...</td>\n",
       "      <td>...</td>\n",
       "      <td>...</td>\n",
       "    </tr>\n",
       "    <tr>\n",
       "      <th>864</th>\n",
       "      <td>60577</td>\n",
       "      <td>Frederikshavn Municipality</td>\n",
       "      <td>False</td>\n",
       "      <td>True</td>\n",
       "    </tr>\n",
       "    <tr>\n",
       "      <th>865</th>\n",
       "      <td>60588</td>\n",
       "      <td>City of Alba-Iulia</td>\n",
       "      <td>False</td>\n",
       "      <td>True</td>\n",
       "    </tr>\n",
       "    <tr>\n",
       "      <th>866</th>\n",
       "      <td>61753</td>\n",
       "      <td>Yilan County Government</td>\n",
       "      <td>False</td>\n",
       "      <td>NaN</td>\n",
       "    </tr>\n",
       "    <tr>\n",
       "      <th>867</th>\n",
       "      <td>63543</td>\n",
       "      <td>Fredensborg Municipality</td>\n",
       "      <td>False</td>\n",
       "      <td>True</td>\n",
       "    </tr>\n",
       "    <tr>\n",
       "      <th>868</th>\n",
       "      <td>64014</td>\n",
       "      <td>City of Cupertino, CA</td>\n",
       "      <td>False</td>\n",
       "      <td>True</td>\n",
       "    </tr>\n",
       "  </tbody>\n",
       "</table>\n",
       "<p>869 rows × 4 columns</p>\n",
       "</div>"
      ],
      "text/plain": [
       "     Organization_id                  Organization_name  C40_member  \\\n",
       "0              58796                      Odder Kommune       False   \n",
       "1              36158                   Comune di Napoli       False   \n",
       "2              62855                Egedal Municipality       False   \n",
       "3              61790             City of Emeryville, CA       False   \n",
       "4              62180  Communauté urbaine du Grand Nancy       False   \n",
       "..               ...                                ...         ...   \n",
       "864            60577         Frederikshavn Municipality       False   \n",
       "865            60588                 City of Alba-Iulia       False   \n",
       "866            61753            Yilan County Government       False   \n",
       "867            63543           Fredensborg Municipality       False   \n",
       "868            64014              City of Cupertino, CA       False   \n",
       "\n",
       "    GCoM_member  \n",
       "0           NaN  \n",
       "1           NaN  \n",
       "2           NaN  \n",
       "3           NaN  \n",
       "4           NaN  \n",
       "..          ...  \n",
       "864        True  \n",
       "865        True  \n",
       "866         NaN  \n",
       "867        True  \n",
       "868        True  \n",
       "\n",
       "[869 rows x 4 columns]"
      ]
     },
     "execution_count": 30,
     "metadata": {},
     "output_type": "execute_result"
    }
   ],
   "source": [
    "# Now we merge the unique_pairs_gcom into our final_df(_with_c40)\n",
    "final_df_with_gcom = pd.merge(final_df_with_c40, unique_pairs_gcom, on=org_no, how='left')\n",
    "final_df_with_gcom"
   ]
  },
  {
   "cell_type": "code",
   "execution_count": 31,
   "metadata": {},
   "outputs": [],
   "source": [
    "# We don't change the NaN values in GCoM_member to false, because they might be 'True' in reality, so we keep them as NaN meaning don't know"
   ]
  },
  {
   "cell_type": "markdown",
   "metadata": {},
   "source": [
    "### xxx"
   ]
  }
 ],
 "metadata": {
  "kernelspec": {
   "display_name": "base",
   "language": "python",
   "name": "python3"
  },
  "language_info": {
   "codemirror_mode": {
    "name": "ipython",
    "version": 3
   },
   "file_extension": ".py",
   "mimetype": "text/x-python",
   "name": "python",
   "nbconvert_exporter": "python",
   "pygments_lexer": "ipython3",
   "version": "3.12.1"
  }
 },
 "nbformat": 4,
 "nbformat_minor": 2
}
